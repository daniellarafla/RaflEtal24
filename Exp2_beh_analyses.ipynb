{
 "cells": [
  {
   "cell_type": "code",
   "execution_count": 1,
   "id": "18eea64f-c6f8-403f-bcd9-caeb27f7263c",
   "metadata": {},
   "outputs": [],
   "source": [
    "%matplotlib inline\n",
    "import cmlreaders as cml\n",
    "from cmlreaders import CMLReader, get_data_index\n",
    "import matplotlib.pyplot as plt \n",
    "import matplotlib as mp\n",
    "from matplotlib.ticker import StrMethodFormatter\n",
    "from matplotlib.lines import Line2D\n",
    "\n",
    "import scipy \n",
    "from scipy import stats \n",
    "\n",
    "import pandas as pd \n",
    "import numpy as np\n",
    "import os \n",
    "import sys\n",
    "\n",
    "import pybeh_pd as pb\n",
    "import pybeh_pd_min as pb_min\n",
    "import seaborn as sns\n",
    "import importlib\n",
    "\n",
    "from brokenaxes import brokenaxes\n",
    "import seaborn as sns"
   ]
  },
  {
   "cell_type": "code",
   "execution_count": 2,
   "id": "4e15a533-e69e-41cc-9260-d451b5d48b12",
   "metadata": {},
   "outputs": [],
   "source": [
    "def loftus_masson(df, sub_cols, cond_col, value_col, within_cols=[]):\n",
    "    if not isinstance(sub_cols, list):\n",
    "        sub_cols = [sub_cols]\n",
    "    if not isinstance(within_cols, list):\n",
    "        within_cols = [within_cols]\n",
    "    df = df.copy()\n",
    "    if len(within_cols) > 0:\n",
    "        df['M'] = df.groupby(within_cols)[value_col].transform('mean')\n",
    "    else:\n",
    "        df['M'] = df[value_col].mean()\n",
    "    df['M_S'] = df.groupby(sub_cols + within_cols)[value_col].transform('mean')\n",
    "    df['adj_' + value_col] = (df[value_col] + df['M'] - df['M_S'])\n",
    "    return df"
   ]
  },
  {
   "cell_type": "code",
   "execution_count": 4,
   "id": "0247d01d-43f2-4dad-908d-72417d5490b9",
   "metadata": {},
   "outputs": [
    {
     "name": "stderr",
     "output_type": "stream",
     "text": [
      "/home1/rafla/.conda/envs/cml_environment/lib/python3.7/site-packages/IPython/core/interactiveshell.py:3441: DtypeWarning: Columns (7,21,24,25) have mixed types.Specify dtype option on import or set low_memory=False.\n",
      "  exec(code_obj, self.user_global_ns, self.user_ns)\n"
     ]
    }
   ],
   "source": [
    "exp2_data = pd.read_csv('dataframes/exp2_ffr_evs.csv')"
   ]
  },
  {
   "cell_type": "markdown",
   "id": "63e7bbca-a75c-44cb-b70c-8fceb5dfa47f",
   "metadata": {
    "tags": []
   },
   "source": [
    "# Semantic CRP"
   ]
  },
  {
   "cell_type": "markdown",
   "id": "d528c6fc-4d67-4b45-86ab-46a9456c7022",
   "metadata": {
    "tags": []
   },
   "source": [
    "## Overall effect"
   ]
  },
  {
   "cell_type": "code",
   "execution_count": 5,
   "id": "fd8da6aa-f360-42b6-ba63-092843a10357",
   "metadata": {},
   "outputs": [],
   "source": [
    "sem_sim_num_df = pd.read_csv('dataframes/exp2_sem_sim_num_df.csv')"
   ]
  },
  {
   "cell_type": "code",
   "execution_count": 6,
   "id": "87cc9b3f-0969-490f-8d9d-f893de88e508",
   "metadata": {},
   "outputs": [],
   "source": [
    "sem_sims = pd.pivot_table(sem_sim_num_df, index='item_num_1', columns='item_num_2', values='similarity', dropna=False)"
   ]
  },
  {
   "cell_type": "code",
   "execution_count": 7,
   "id": "5e6941de-1d64-447b-8f7a-50d3a731b2ce",
   "metadata": {},
   "outputs": [],
   "source": [
    "ffr_evs = exp2_data.query(\"type == 'REC_WORD'\")\n",
    "ffr_evs = ffr_evs[ffr_evs['list']==26]\n",
    "pres_evs = exp2_data.query(\"type == 'WORD'\")\n",
    "sem_pres_evs = pres_evs.drop_duplicates(subset=['subject', 'session', 'list', 'item_name'])"
   ]
  },
  {
   "cell_type": "code",
   "execution_count": 8,
   "id": "15ba490a-b4c6-44c1-83b8-19f60e1f7ea1",
   "metadata": {},
   "outputs": [],
   "source": [
    "sem_ffr_evs = pd.concat([sem_pres_evs, ffr_evs])"
   ]
  },
  {
   "cell_type": "code",
   "execution_count": 9,
   "id": "81abc8c5-f7d8-4cd3-8e15-a5842c9877ee",
   "metadata": {},
   "outputs": [],
   "source": [
    "pb_sem_crp = sem_ffr_evs.groupby(['subject','session']).apply(pb.pd_sem_crp, list_index=['subject', 'session'],\n",
    "                                itemno_column='item_num_new', sem_sims=sem_sims).reset_index()"
   ]
  },
  {
   "cell_type": "code",
   "execution_count": 10,
   "id": "fadd1dfe-ec30-42a0-aa05-c86597cd9cfe",
   "metadata": {},
   "outputs": [],
   "source": [
    "pb_sem_crp_sub = pb_sem_crp.groupby(['subject','sem_bin']).agg({'prob':np.nanmean, 'sem_bin_mean':np.nanmean}).reset_index()"
   ]
  },
  {
   "cell_type": "code",
   "execution_count": 11,
   "id": "dd424f49-ca4f-42f0-99e1-b00fb094f022",
   "metadata": {},
   "outputs": [
    {
     "data": {
      "image/png": "[encoded data removed]",
      "text/plain": [
       "<Figure size 360x360 with 1 Axes>"
      ]
     },
     "metadata": {
      "needs_background": "light"
     },
     "output_type": "display_data"
    }
   ],
   "source": [
    "def std_ddof(a):\n",
    "    std = np.std(a, ddof=1)\n",
    "    return std\n",
    "\n",
    "with sns.plotting_context(context='paper', font_scale=1.5): \n",
    "    fig = plt.figure(figsize=(5, 5))\n",
    "    x = pb_sem_crp_sub.groupby('sem_bin').agg({'sem_bin_mean':'mean'})['sem_bin_mean'].to_numpy()\n",
    "    y = pb_sem_crp_sub.groupby('sem_bin').agg({'prob':'mean'})['prob'].to_numpy()\n",
    "    std = pb_sem_crp_sub.groupby('sem_bin').agg(std=('prob',std_ddof))['std'].to_numpy()\n",
    "    count = pb_sem_crp_sub.groupby('sem_bin').agg(count=('prob','count'))['count'].to_numpy()\n",
    "    yerr = 1.96 * (std / (count ** 0.5))\n",
    "\n",
    "    plt.errorbar(x, y, yerr=yerr, color='k', marker='o', markersize=8);\n",
    "    plt.ylim(0,0.60)\n",
    "    plt.xlim(-0.02, 0.40)\n",
    "    plt.xticks(np.arange(0,0.5, 0.1))\n",
    "    plt.xlabel('Average Similarity Bin')\n",
    "    plt.ylabel('Conditional Response Probability')\n",
    "    plt.savefig('figures/exp2_semcrp.pdf')"
   ]
  },
  {
   "cell_type": "markdown",
   "id": "e4380609-7094-4a0a-a77c-e739abcda73e",
   "metadata": {
    "tags": []
   },
   "source": [
    "## Change in the effect across sessions"
   ]
  },
  {
   "cell_type": "code",
   "execution_count": 12,
   "id": "fc56eb59-57fb-4776-9b06-539dfe20f59f",
   "metadata": {},
   "outputs": [],
   "source": [
    "exp2_dist_fact = sem_ffr_evs.groupby(['subject', 'session']).apply(\n",
    "    pb.pd_dist_fact, itemno_column='item_num_new', list_index=['subject', 'session'], \n",
    "    pres_type=\"WORD\", rec_type=\"REC_WORD\", dist_mat=sem_sims, is_similarity=True).reset_index().rename(columns={0:'prob'})"
   ]
  },
  {
   "cell_type": "code",
   "execution_count": 14,
   "id": "73254049-517b-4f9a-b31b-16f8fe3a6375",
   "metadata": {},
   "outputs": [],
   "source": [
    "exp2_dist_fact.to_csv('dataframes/exp2_sem.csv', index=False)"
   ]
  },
  {
   "cell_type": "code",
   "execution_count": 15,
   "id": "86acd98a-1341-41ce-ab5c-4a0f8124d7ec",
   "metadata": {},
   "outputs": [],
   "source": [
    "loftus_masson_sem=loftus_masson(exp2_dist_fact, 'subject', 'session', 'prob')"
   ]
  },
  {
   "cell_type": "code",
   "execution_count": 16,
   "id": "99121310-bc4a-4824-9044-b59da9726a9c",
   "metadata": {},
   "outputs": [],
   "source": [
    "loftus_masson_sem.to_csv('dataframes/exp2_semtrend.csv', index=False)"
   ]
  },
  {
   "cell_type": "markdown",
   "id": "a2dee22c-3dfc-4246-9797-100e43551224",
   "metadata": {
    "tags": []
   },
   "source": [
    "# Lag-CRP"
   ]
  },
  {
   "cell_type": "markdown",
   "id": "fde73185-dc30-4a37-a9dc-e908e2a11666",
   "metadata": {
    "tags": []
   },
   "source": [
    "## Overall effect"
   ]
  },
  {
   "cell_type": "code",
   "execution_count": 17,
   "id": "201b49af-8bff-4d06-8010-66dd0a4f2e4c",
   "metadata": {},
   "outputs": [],
   "source": [
    "lag_crp_ffr_evs = pd.concat([pres_evs, ffr_evs])"
   ]
  },
  {
   "cell_type": "code",
   "execution_count": 18,
   "id": "528d7271-42dc-406c-8380-5530d2124c30",
   "metadata": {},
   "outputs": [],
   "source": [
    "ffr_dfs=[]\n",
    "for i in range(26):\n",
    "    ffr_evs_crp=ffr_evs.copy()\n",
    "    ffr_evs_crp['list']=i\n",
    "    ffr_dfs.append(ffr_evs_crp)"
   ]
  },
  {
   "cell_type": "code",
   "execution_count": 19,
   "id": "53d658cb-443b-4363-86a8-eabf617a7deb",
   "metadata": {},
   "outputs": [],
   "source": [
    "ffr_dfs.append(pres_evs)\n",
    "lag_crp_df = pd.concat(ffr_dfs)"
   ]
  },
  {
   "cell_type": "code",
   "execution_count": 20,
   "id": "53b30492-a4c9-4057-98ae-4283a3c1c25d",
   "metadata": {},
   "outputs": [],
   "source": [
    "pb_min_crp = lag_crp_df.groupby(['subject','session']).apply(pb.pd_min_crp, lag_num=10,\n",
    "                                itemno_column='item_num_new', max_n_reps=3).reset_index()"
   ]
  },
  {
   "cell_type": "code",
   "execution_count": 21,
   "id": "61de0146-3834-46d0-ac42-b601a881651b",
   "metadata": {},
   "outputs": [],
   "source": [
    "pb_min_crp_sub = pb_min_crp.groupby(['subject','lag']).agg({'prob':'mean'}).reset_index()"
   ]
  },
  {
   "cell_type": "code",
   "execution_count": 22,
   "id": "35a52d7b-5580-4321-b410-7f875f3bc6d9",
   "metadata": {},
   "outputs": [
    {
     "data": {
      "image/png": "[encoded data removed]",
      "text/plain": [
       "<Figure size 360x360 with 1 Axes>"
      ]
     },
     "metadata": {
      "needs_background": "light"
     },
     "output_type": "display_data"
    }
   ],
   "source": [
    "def std_ddof(a):\n",
    "    std = np.std(a, ddof=1)\n",
    "    return std\n",
    "\n",
    "with sns.plotting_context(context='paper', font_scale=1.5): \n",
    "    fig = plt.figure(figsize=(5, 5))\n",
    "    x = np.arange(-10,11,dtype=int)\n",
    "    y = pb_min_crp_sub.groupby('lag').agg({'prob':'mean'})['prob'].to_numpy()\n",
    "    std = pb_min_crp_sub.groupby('lag').agg(std=('prob',std_ddof))['std'].to_numpy()\n",
    "    count = pb_min_crp_sub.groupby('lag').agg(count=('prob','count'))['count'].to_numpy()\n",
    "    yerr = 1.96 * (std / (count ** 0.5))\n",
    "\n",
    "    plt.errorbar(x, y, yerr=yerr, color='k', marker='o', markersize=8, fillstyle='none');\n",
    "    plt.ylim(0,0.5)\n",
    "    plt.xlabel('Lag')\n",
    "    plt.ylabel('Conditional Response Probability')\n",
    "    plt.xticks(np.arange(-10,11,2))\n",
    "    plt.savefig('figures/exp2_lag.pdf')"
   ]
  },
  {
   "cell_type": "markdown",
   "id": "bb91b3fa-dfd8-4f6b-9b87-8a52283da9e4",
   "metadata": {
    "tags": []
   },
   "source": [
    "## Change in the effect across sessions "
   ]
  },
  {
   "cell_type": "code",
   "execution_count": 23,
   "id": "f3054f80-28e2-4da0-93b2-51059d2cea4e",
   "metadata": {
    "tags": []
   },
   "outputs": [],
   "source": [
    "exp2_temp_fact = lag_crp_df.groupby(['subject', 'session']).apply(\n",
    "    pb.pd_min_temp_fact, pres_type=\"WORD\", rec_type='REC_WORD',\n",
    "    itemno_column='item_num_new', max_n_reps=3).to_frame('temp_fact').reset_index().rename(columns={'temp_fact':'prob'})"
   ]
  },
  {
   "cell_type": "code",
   "execution_count": 24,
   "id": "02892abe-0971-475b-aa61-fe0d1a7e3c57",
   "metadata": {},
   "outputs": [],
   "source": [
    "exp2_temp_fact.to_csv('dataframes/exp2_temp.csv', index=False)"
   ]
  },
  {
   "cell_type": "code",
   "execution_count": 25,
   "id": "8a877c46-ce4f-4076-9c80-a7ff5070614e",
   "metadata": {},
   "outputs": [],
   "source": [
    "loftus_masson_temp=loftus_masson(exp2_temp_fact, 'subject', 'session', 'prob')"
   ]
  },
  {
   "cell_type": "markdown",
   "id": "3ef182cc-cfbc-4e48-a108-2404a31f7b6f",
   "metadata": {
    "tags": []
   },
   "source": [
    "## Combining sem and temp in same graph"
   ]
  },
  {
   "cell_type": "code",
   "execution_count": 26,
   "id": "9ec0f32e-6cc3-4db1-a16e-9779a8f3a0ee",
   "metadata": {},
   "outputs": [
    {
     "data": {
      "image/png": "[encoded data removed]",
      "text/plain": [
       "<Figure size 360x360 with 3 Axes>"
      ]
     },
     "metadata": {
      "needs_background": "light"
     },
     "output_type": "display_data"
    }
   ],
   "source": [
    "def std_ddof(a):\n",
    "    std = np.std(a, ddof=1)\n",
    "    return std\n",
    "\n",
    "with sns.plotting_context(context='paper', font_scale=1.5, \n",
    "#                           rc={'axes.labelsize': 100}\n",
    "                         ):\n",
    "    fig = plt.figure(figsize=(5, 5))\n",
    "    bax = brokenaxes(ylims=((0, 0.01), (0.42\n",
    "                                        , 0.80)), hspace=.08)\n",
    "    x = np.arange(0,10,dtype=int)\n",
    "    \n",
    "    y_temp = loftus_masson_temp.groupby('session').agg(sem_prob=('adj_prob','mean'))['sem_prob'].to_numpy()\n",
    "    std_temp = loftus_masson_temp.groupby('session').agg(std=('adj_prob',std_ddof))['std'].to_numpy()\n",
    "    count_temp = loftus_masson_temp.groupby('session').agg(count=('adj_prob', 'count'))['count'].to_numpy()\n",
    "    yerr_temp = 1.96 * (std_temp / (count_temp ** 0.5))\n",
    "    bax.errorbar(x, y_temp, yerr = yerr_temp, color='k', marker='o', markersize=8,fillstyle='none',label='Temporal')\n",
    "    \n",
    "    y_sem = loftus_masson_sem.groupby('session').agg(sem_prob=('adj_prob','mean'))['sem_prob'].to_numpy()\n",
    "    std_sem = loftus_masson_sem.groupby('session').agg(std=('adj_prob',std_ddof))['std'].to_numpy()\n",
    "    count_sem = loftus_masson_sem.groupby('session').agg(count=('adj_prob', 'count'))['count'].to_numpy()\n",
    "    yerr_sem = 1.96 * (std_sem / (count_sem ** 0.5))\n",
    "    bax.errorbar(x, y_sem, yerr = yerr_sem, color='k', marker='o',markersize=8, label='Semantic')\n",
    "    \n",
    "  \n",
    "    \n",
    "    \n",
    "\n",
    "    bax.legend(loc=4)\n",
    "    \n",
    "    bax.set_xticks(np.arange(1,10,1,dtype=int))\n",
    "    bax.set_xlabel('Session')\n",
    "    bax.set_ylabel('Clustering Score')\n",
    "    plt.savefig('figures/exp2_sem_and_temp.pdf')"
   ]
  },
  {
   "cell_type": "markdown",
   "id": "a2bf9889-5734-4f1c-856c-85773b7cc724",
   "metadata": {
    "tags": []
   },
   "source": [
    "## Subjective CRP"
   ]
  },
  {
   "cell_type": "markdown",
   "id": "5dbf0b12-e337-4ab1-835a-7d944990ad3f",
   "metadata": {
    "tags": []
   },
   "source": [
    "## Overall effect "
   ]
  },
  {
   "cell_type": "code",
   "execution_count": 27,
   "id": "af9150c2-7878-448c-8c41-2e9a2bc5f0f1",
   "metadata": {},
   "outputs": [],
   "source": [
    "# give item numbers to recalled items that will serve as presetation items\n",
    "item_col = 'item_name'\n",
    "item_num_col = 'ffr_item_num'\n",
    "item_num_df = ffr_evs.drop_duplicates(subset=item_col, ignore_index=True)[item_col].reset_index().rename(columns={'index': item_num_col})\n",
    "item_num_df[item_num_col] = item_num_df[item_num_col] + 1\n",
    "ffr_evs = ffr_evs.merge(item_num_df, how='left')"
   ]
  },
  {
   "cell_type": "code",
   "execution_count": 28,
   "id": "bb6dbff3-9109-4685-a562-ef53282aa8cc",
   "metadata": {},
   "outputs": [],
   "source": [
    "# make the this df into a presentation events df\n",
    "ffr_pres_evs = ffr_evs.copy()\n",
    "ffr_pres_evs['type'] = \"FFR_WORD\"  # creates a distinction between pres and rec evs\n",
    "ffr_pres_evs['session'] = ffr_pres_evs['session'] + 1   # add 1 to sess bc. analysis based on prev sess\n",
    "ffr_pres_evs = ffr_pres_evs.query('session!=10')"
   ]
  },
  {
   "cell_type": "code",
   "execution_count": 29,
   "id": "976d3656-4a9c-4d2a-b5a6-b92cc30780e6",
   "metadata": {},
   "outputs": [],
   "source": [
    "num_recs = ffr_pres_evs.groupby(['subject','session']).agg(num_recs=('item_name','count')).reset_index()"
   ]
  },
  {
   "cell_type": "code",
   "execution_count": 30,
   "id": "e9184b74-fd39-48af-a914-747731a91187",
   "metadata": {},
   "outputs": [],
   "source": [
    "ffr_pres_evs = ffr_pres_evs.merge(num_recs, on=['subject','session'], how='left')"
   ]
  },
  {
   "cell_type": "code",
   "execution_count": 31,
   "id": "fc7a96ef-aae2-46bc-8a81-58acf4ab4dc0",
   "metadata": {},
   "outputs": [],
   "source": [
    "# only keep sessions with more than 10 recalls serving as presentation events\n",
    "ffr_pres_evs = ffr_pres_evs[ffr_pres_evs['num_recs']>10]"
   ]
  },
  {
   "cell_type": "code",
   "execution_count": 32,
   "id": "730195ae-00b4-441a-a3e4-f764c46552e9",
   "metadata": {},
   "outputs": [],
   "source": [
    "# session 0 has no prev sess, so no presenation evs\n",
    "ffr_rec_evs = ffr_evs.query('session != 0') "
   ]
  },
  {
   "cell_type": "code",
   "execution_count": 33,
   "id": "2f5a39a0-7f5b-4cb8-bd2b-fddfd602854d",
   "metadata": {},
   "outputs": [],
   "source": [
    "ffr_subj_org_evs = pd.concat([ffr_pres_evs, ffr_rec_evs])"
   ]
  },
  {
   "cell_type": "code",
   "execution_count": 34,
   "id": "3010f6bc-5518-492f-bb5d-1cd9ac64ea90",
   "metadata": {
    "tags": []
   },
   "outputs": [],
   "source": [
    "pb_min_subj = ffr_subj_org_evs.groupby(['subject', 'session']).apply(pb_min.pd_min_crp_subj, lag_num=10,\n",
    "                                                   pres_type='FFR_WORD',\n",
    "                                          rec_type='REC_WORD', \n",
    "                                          itemno_column='ffr_item_num', \n",
    "                                           max_n_reps=4).reset_index()"
   ]
  },
  {
   "cell_type": "code",
   "execution_count": 35,
   "id": "bd479841-5c16-45a9-8489-2caf729ac951",
   "metadata": {},
   "outputs": [],
   "source": [
    "pb_min_subj_sub = pb_min_subj.groupby(['subject', 'lag']).agg({'prob':'mean'}).reset_index()"
   ]
  },
  {
   "cell_type": "code",
   "execution_count": 36,
   "id": "a2dc7979-c85e-497e-af94-ed065cdf28e3",
   "metadata": {},
   "outputs": [
    {
     "data": {
      "image/png": "[encoded data removed]",
      "text/plain": [
       "<Figure size 360x360 with 1 Axes>"
      ]
     },
     "metadata": {
      "needs_background": "light"
     },
     "output_type": "display_data"
    }
   ],
   "source": [
    "def std_ddof(a):\n",
    "    std = np.std(a, ddof=1)\n",
    "    return std\n",
    "\n",
    "with sns.plotting_context(context='paper', font_scale=1.5): \n",
    "    fig = plt.figure(figsize=(5, 5))\n",
    "    x = np.arange(-10,11,dtype=int)\n",
    "    y = pb_min_subj_sub.groupby('lag').agg({'prob':'mean'})['prob'].to_numpy()\n",
    "    std = pb_min_subj_sub.groupby('lag').agg(std=('prob',std_ddof))['std'].to_numpy()\n",
    "    count = pb_min_subj_sub.groupby('lag').agg(count=('prob','count'))['count'].to_numpy()\n",
    "    yerr = 1.96 * (std / (count ** 0.5))\n",
    "\n",
    "    plt.errorbar(x, y, yerr=yerr, color='k', marker='o');\n",
    "    plt.ylim(0,0.40)\n",
    "    plt.yticks(np.arange(0,0.5,0.1))\n",
    "    plt.xlabel('Lag')\n",
    "    plt.ylabel('Conditional Response Probability')\n",
    "    plt.xticks(np.arange(-10,11,2))\n",
    "    plt.savefig('figures/exp2_subj.pdf')"
   ]
  },
  {
   "cell_type": "markdown",
   "id": "90c36962-7cd0-4fdf-b846-f4913dc46f66",
   "metadata": {
    "tags": []
   },
   "source": [
    "## Change in the effect across sessions"
   ]
  },
  {
   "cell_type": "code",
   "execution_count": 37,
   "id": "ac2ae52f-a902-4a44-a7fd-ea2e56df7a1d",
   "metadata": {
    "tags": []
   },
   "outputs": [],
   "source": [
    "exp2_subj_fact = ffr_subj_org_evs.groupby(['subject', 'session']).apply(\n",
    "    pb.pd_min_temp_fact, pres_type=\"FFR_WORD\", rec_type='REC_WORD', list_index=['subject', 'session'],\n",
    "    itemno_column='ffr_item_num', max_n_reps=4).to_frame('prob').reset_index()"
   ]
  },
  {
   "cell_type": "code",
   "execution_count": 38,
   "id": "955b4d5e-ca5b-4bd9-9660-760e24c29bb1",
   "metadata": {},
   "outputs": [],
   "source": [
    "exp2_subj_fact = exp2_subj_fact.dropna(axis='rows')"
   ]
  },
  {
   "cell_type": "code",
   "execution_count": 40,
   "id": "fc65afd1-f430-4b09-8ba0-f88a215506a3",
   "metadata": {},
   "outputs": [],
   "source": [
    "exp2_subj_fact.to_csv('dataframes/exp2_subj.csv', index=False)"
   ]
  },
  {
   "cell_type": "code",
   "execution_count": 41,
   "id": "f1b9826b-08ba-45f8-9125-6591556e3ec7",
   "metadata": {},
   "outputs": [],
   "source": [
    "loftus_masson_subj=loftus_masson(exp2_subj_fact, 'subject', 'session', 'prob')"
   ]
  },
  {
   "cell_type": "code",
   "execution_count": 42,
   "id": "6901c027-b558-4a73-ba11-22a36444d3b0",
   "metadata": {},
   "outputs": [
    {
     "data": {
      "image/png": "[encoded data removed]",
      "text/plain": [
       "<Figure size 360x360 with 3 Axes>"
      ]
     },
     "metadata": {
      "needs_background": "light"
     },
     "output_type": "display_data"
    }
   ],
   "source": [
    "def std_ddof(a):\n",
    "    std = np.std(a, ddof=1)\n",
    "    return std\n",
    "\n",
    "with sns.plotting_context(context='paper', font_scale=1.5, \n",
    "#                           rc={'axes.labelsize': 100}\n",
    "                         ):\n",
    "    fig = plt.figure(figsize=(5, 5))\n",
    "    bax = brokenaxes(ylims=((0, 0.02), (0.42\n",
    "                                        , 0.90)), hspace=.08)\n",
    "    x = np.arange(1,10,dtype=int)\n",
    "    y = loftus_masson_subj.groupby('session').agg(subj_prob=('adj_prob','mean'))['subj_prob'].to_numpy()\n",
    "    std = loftus_masson_subj.groupby('session').agg(std=('adj_prob',std_ddof))['std'].to_numpy()\n",
    "    count = loftus_masson_subj.groupby('session').agg(count=('adj_prob', 'count'))['count'].to_numpy()\n",
    "\n",
    "    yerr = 1.96 * (std / (count ** 0.5))\n",
    "    bax.errorbar(x, y, yerr = yerr, color='k', marker='o' )\n",
    "    bax.set_xticks(np.arange(1,10,1,dtype=int))\n",
    "    bax.set_xlabel('Session')\n",
    "    bax.set_ylabel('Subjective clustering Score')\n",
    "    plt.savefig('figures/exp2_subjtrend.pdf')"
   ]
  }
 ],
 "metadata": {
  "kernelspec": {
   "display_name": "cml_environment",
   "language": "python",
   "name": "cml_environment"
  },
  "language_info": {
   "codemirror_mode": {
    "name": "ipython",
    "version": 3
   },
   "file_extension": ".py",
   "mimetype": "text/x-python",
   "name": "python",
   "nbconvert_exporter": "python",
   "pygments_lexer": "ipython3",
   "version": "3.7.11"
  }
 },
 "nbformat": 4,
 "nbformat_minor": 5
}
