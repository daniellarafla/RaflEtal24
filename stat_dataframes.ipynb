{
 "cells": [
  {
   "cell_type": "markdown",
   "id": "aa4972e6-04fe-4ba8-ab86-8cb766fa6f46",
   "metadata": {},
   "source": [
    "This notebook compiles the dataframes used to run statistical models on the data for both experiments. "
   ]
  },
  {
   "cell_type": "code",
   "execution_count": 1,
   "id": "d9b9cb64-4c22-4a5b-804d-3707c5b0a185",
   "metadata": {},
   "outputs": [],
   "source": [
    "import pandas as pd \n",
    "import numpy as np"
   ]
  },
  {
   "cell_type": "markdown",
   "id": "398223c9-8d3d-4425-ac9d-cc24dbb2eb71",
   "metadata": {},
   "source": [
    "# Experiment 1"
   ]
  },
  {
   "cell_type": "code",
   "execution_count": 2,
   "id": "c40d8845-281b-4496-bbe8-f5391c6e4ca0",
   "metadata": {},
   "outputs": [],
   "source": [
    "correct_recs = pd.read_csv('dataframes/exp1_correct_recs.csv')"
   ]
  },
  {
   "cell_type": "code",
   "execution_count": 3,
   "id": "3a8ba111-35dc-4261-b09a-18eb03529fb4",
   "metadata": {},
   "outputs": [],
   "source": [
    "recs = pd.read_csv('dataframes/exp1_recs.csv')"
   ]
  },
  {
   "cell_type": "code",
   "execution_count": 4,
   "id": "f31d0681-5831-4654-bb1f-7d84dd1ca07d",
   "metadata": {},
   "outputs": [],
   "source": [
    "sem = pd.read_csv('dataframes/exp1_sem.csv').rename(columns={'prob':'sem'})"
   ]
  },
  {
   "cell_type": "code",
   "execution_count": 5,
   "id": "da5993f7-3b6f-42bf-8174-0d9830f33c40",
   "metadata": {},
   "outputs": [],
   "source": [
    "lag = pd.read_csv('dataframes/exp1_temp.csv').rename(columns={'prob':'lag'})"
   ]
  },
  {
   "cell_type": "code",
   "execution_count": 6,
   "id": "fbb74623-fb12-468a-927b-d2ee438d61f6",
   "metadata": {},
   "outputs": [],
   "source": [
    "subj = pd.read_csv('dataframes/exp1_subj.csv').rename(columns={'prob':'subj'})"
   ]
  },
  {
   "cell_type": "code",
   "execution_count": 7,
   "id": "cf304fe4-c195-43ea-9d38-3fac1391ef4c",
   "metadata": {},
   "outputs": [],
   "source": [
    "intr = pd.read_csv('dataframes/exp1_intr.csv')"
   ]
  },
  {
   "cell_type": "code",
   "execution_count": 8,
   "id": "02b66e20-753d-42b1-a641-133674023e88",
   "metadata": {},
   "outputs": [],
   "source": [
    "exp1_data = correct_recs.merge(\n",
    "    recs, how='outer').merge(\n",
    "    intr, how='outer').merge(\n",
    "    sem, how='outer').merge(\n",
    "    lag, how='outer').merge(\n",
    "    subj, how='outer')"
   ]
  },
  {
   "cell_type": "code",
   "execution_count": 9,
   "id": "774655d7-ceae-46ea-9e54-5b314315b121",
   "metadata": {},
   "outputs": [],
   "source": [
    "exp1_data.to_csv('dataframes/exp1_stat_data.csv', index=False)"
   ]
  },
  {
   "cell_type": "markdown",
   "id": "812b97ba-f00b-4b96-94ce-d7ddfcea838f",
   "metadata": {},
   "source": [
    "# Experiment 2"
   ]
  },
  {
   "cell_type": "code",
   "execution_count": 10,
   "id": "8adb11ff-9998-4ad1-9db5-4276f23a356a",
   "metadata": {},
   "outputs": [],
   "source": [
    "correct_recs = pd.read_csv('dataframes/exp2_correct_recs.csv')"
   ]
  },
  {
   "cell_type": "code",
   "execution_count": 11,
   "id": "d513648f-9fe4-4a0d-a48f-814d9ac0953b",
   "metadata": {},
   "outputs": [],
   "source": [
    "recs = pd.read_csv('dataframes/exp2_recs.csv') "
   ]
  },
  {
   "cell_type": "code",
   "execution_count": 12,
   "id": "36bd000b-f430-4185-8b9f-037b27e06066",
   "metadata": {},
   "outputs": [],
   "source": [
    "intr = pd.read_csv('dataframes/exp2_intr.csv')"
   ]
  },
  {
   "cell_type": "code",
   "execution_count": 13,
   "id": "9642d095-962f-4b06-9984-bb777a3adbcd",
   "metadata": {},
   "outputs": [],
   "source": [
    "sem = pd.read_csv('dataframes/exp2_sem.csv').rename(columns={'prob':'sem'})"
   ]
  },
  {
   "cell_type": "code",
   "execution_count": 14,
   "id": "d2924824-cc9e-4b78-ba66-16c65b7a7754",
   "metadata": {},
   "outputs": [],
   "source": [
    "lag = pd.read_csv('dataframes/exp2_temp.csv').rename(columns={'prob':'lag'})"
   ]
  },
  {
   "cell_type": "code",
   "execution_count": 15,
   "id": "27c5e2d4-b1da-4b2b-9b6d-942a6458b5d0",
   "metadata": {},
   "outputs": [],
   "source": [
    "subj = pd.read_csv('dataframes/exp2_subj.csv').rename(columns={'prob':'subj'})"
   ]
  },
  {
   "cell_type": "code",
   "execution_count": 16,
   "id": "8f0586a5-ec6e-42eb-88e2-9786f0c1aed7",
   "metadata": {},
   "outputs": [],
   "source": [
    "exp2_data = correct_recs.merge(\n",
    "    recs, how='outer').merge(\n",
    "    intr, how='outer').merge(\n",
    "    sem, how='outer').merge(\n",
    "    lag, how='outer').merge(\n",
    "    subj, how='outer')"
   ]
  },
  {
   "cell_type": "code",
   "execution_count": 17,
   "id": "23b87696-77a8-48e9-8e26-aa641bc3ada8",
   "metadata": {},
   "outputs": [],
   "source": [
    "exp2_data.to_csv('dataframes/exp2_stat_data.csv', index=False)"
   ]
  }
 ],
 "metadata": {
  "kernelspec": {
   "display_name": "workshop",
   "language": "python",
   "name": "workshop"
  },
  "language_info": {
   "codemirror_mode": {
    "name": "ipython",
    "version": 3
   },
   "file_extension": ".py",
   "mimetype": "text/x-python",
   "name": "python",
   "nbconvert_exporter": "python",
   "pygments_lexer": "ipython3",
   "version": "3.7.6"
  }
 },
 "nbformat": 4,
 "nbformat_minor": 5
}
