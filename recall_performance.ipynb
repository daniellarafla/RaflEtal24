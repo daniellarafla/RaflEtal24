{
 "cells": [
  {
   "cell_type": "code",
   "execution_count": 1,
   "id": "41a8747f-aa75-4fed-aa87-5ab28d10a39a",
   "metadata": {},
   "outputs": [],
   "source": [
    "%matplotlib inline\n",
    "import matplotlib.pyplot as plt \n",
    "import matplotlib as mp\n",
    "from matplotlib.ticker import StrMethodFormatter\n",
    "import pandas as pd \n",
    "import numpy as np\n",
    "import os \n",
    "import seaborn as sns\n",
    "import importlib\n",
    "from brokenaxes import brokenaxes"
   ]
  },
  {
   "cell_type": "markdown",
   "id": "2e9d4aa7-376d-41b2-91d8-cabc8ef0abda",
   "metadata": {
    "tags": []
   },
   "source": [
    "# Experiment 1"
   ]
  },
  {
   "cell_type": "code",
   "execution_count": 2,
   "id": "2c0b8095-9154-4df3-b833-3aa98810f416",
   "metadata": {},
   "outputs": [],
   "source": [
    "exp1_data = pd.read_csv('dataframes/KateEtal22_filter_exp1_ffr_evs.csv')"
   ]
  },
  {
   "cell_type": "code",
   "execution_count": 3,
   "id": "95ff7ca9-195d-4794-a57b-3429a2d4bb89",
   "metadata": {},
   "outputs": [],
   "source": [
    "exp1_data = exp1_data[exp1_data['session']>4]"
   ]
  },
  {
   "cell_type": "code",
   "execution_count": 4,
   "id": "51b0b7fd-35ca-46e7-919e-7ecd6632788c",
   "metadata": {},
   "outputs": [],
   "source": [
    "exp1_data['subject'] = exp1_data['subject'].astype('category')\n",
    "exp1_data['session'] = exp1_data['session'].astype('category')"
   ]
  },
  {
   "cell_type": "code",
   "execution_count": 5,
   "id": "c92485df-0df1-497c-b450-5ef9e01149f5",
   "metadata": {},
   "outputs": [],
   "source": [
    "# number of recalls in each session (recall repetitions are removed)\n",
    "recs_exp1=exp1_data.query(\"type=='FFR_REC_WORD'\").drop_duplicates(subset=['subject', 'session', 'item_name']).groupby(['subject','session']).agg(recs=('item_name','count')).reset_index()"
   ]
  },
  {
   "cell_type": "code",
   "execution_count": 6,
   "id": "18248903-8d6d-48fa-b894-f5e65096605b",
   "metadata": {},
   "outputs": [],
   "source": [
    "# number of correct recalls in each session\n",
    "correct_recs_exp1=exp1_data.query(\"type=='FFR_REC_WORD' and intrusion==0\").drop_duplicates(subset=['subject', 'session', 'item_name']).groupby(['subject','session']).agg(correct_recs=\n",
    "                                                                                                             ('item_name','count')).reset_index()"
   ]
  },
  {
   "cell_type": "code",
   "execution_count": 7,
   "id": "4409b763-a960-46cd-a008-6734140f9f96",
   "metadata": {},
   "outputs": [],
   "source": [
    "missing_sessions = correct_recs_exp1.query('correct_recs==0')[['subject', 'session']]"
   ]
  },
  {
   "cell_type": "code",
   "execution_count": 9,
   "id": "d547466e-d250-4551-b4c3-e5070c76937c",
   "metadata": {},
   "outputs": [],
   "source": [
    "missing_sessions.to_csv('dataframes/exp1_missing_sessions.csv', index=False)"
   ]
  },
  {
   "cell_type": "code",
   "execution_count": 10,
   "id": "f485e9ed-bea0-4009-b8d9-e32152c68a3d",
   "metadata": {},
   "outputs": [],
   "source": [
    "# remove missing sessions\n",
    "recs_exp1 = recs_exp1.query('recs != 0')"
   ]
  },
  {
   "cell_type": "code",
   "execution_count": 11,
   "id": "1d7f3ed8-6cb6-40f9-a015-a56b7ebbbab4",
   "metadata": {},
   "outputs": [],
   "source": [
    "recs_exp1.to_csv('dataframes/exp1_recs.csv', index=False)"
   ]
  },
  {
   "cell_type": "code",
   "execution_count": 12,
   "id": "6b43d661-5831-445f-a824-4fcdc4c1d316",
   "metadata": {},
   "outputs": [],
   "source": [
    "# remove missing sessions\n",
    "correct_recs_exp1 = correct_recs_exp1.query('correct_recs != 0')"
   ]
  },
  {
   "cell_type": "code",
   "execution_count": 13,
   "id": "fcf1604e-d4a2-4be4-8f45-c3f202da24e2",
   "metadata": {},
   "outputs": [],
   "source": [
    "correct_recs_exp1.to_csv('dataframes/exp1_correct_recs.csv', index=False)"
   ]
  },
  {
   "cell_type": "code",
   "execution_count": 14,
   "id": "ac16b0a8-554c-4497-b4c5-f044d26c7e8c",
   "metadata": {},
   "outputs": [],
   "source": [
    "def loftus_masson(df, sub_cols, cond_col, value_col, within_cols=[]):\n",
    "    if not isinstance(sub_cols, list):\n",
    "        sub_cols = [sub_cols]\n",
    "    if not isinstance(within_cols, list):\n",
    "        within_cols = [within_cols]\n",
    "    df = df.copy()\n",
    "    if len(within_cols) > 0:\n",
    "        df['M'] = df.groupby(within_cols)[value_col].transform('mean')\n",
    "    else:\n",
    "        df['M'] = df[value_col].mean()\n",
    "    df['M_S'] = df.groupby(sub_cols + within_cols)[value_col].transform('mean')\n",
    "    df['adj_' + value_col] = (df[value_col] + df['M'] - df['M_S'])\n",
    "    return df"
   ]
  },
  {
   "cell_type": "code",
   "execution_count": 15,
   "id": "390672f8-bd98-42f1-86a5-1581f2bc5081",
   "metadata": {},
   "outputs": [],
   "source": [
    "correct_masson_VFFR=loftus_masson(correct_recs_exp1, 'subject', 'session', 'correct_recs')"
   ]
  },
  {
   "cell_type": "code",
   "execution_count": 16,
   "id": "6e75927e-a30a-4ddc-9d72-e247148875f1",
   "metadata": {},
   "outputs": [
    {
     "data": {
      "image/png": "[encoded data removed]",
      "text/plain": [
       "<Figure size 360x360 with 1 Axes>"
      ]
     },
     "metadata": {
      "needs_background": "light"
     },
     "output_type": "display_data"
    }
   ],
   "source": [
    "def std_ddof(a):\n",
    "    std = np.std(a, ddof=1)\n",
    "    return std\n",
    "with sns.plotting_context(context='paper', font_scale=1.5, \n",
    "#                           rc={'axes.labelsize': 100}\n",
    "                       ):\n",
    "    fig = plt.figure(figsize=(5, 5))\n",
    "    #bax = brokenaxes(ylims=((0, 2), (150, 260)), hspace=.08)\n",
    "    x = np.arange(6,11,1)\n",
    "    y = correct_masson_VFFR.groupby('session').agg(mean_correct=('adj_correct_recs', 'mean'))['mean_correct'].to_numpy()\n",
    "    std = correct_masson_VFFR.groupby('session').agg(std=('adj_correct_recs', std_ddof))['std'].to_numpy()\n",
    "    count = correct_masson_VFFR.groupby('session').agg(count=('adj_correct_recs', 'count'))['count'].to_numpy()\n",
    "    yerr = 1.96 * (std / (count ** 0.5))\n",
    "    #sns.relplot(x='session', y='adj_correct_recs', data=correct_masson_repFR, color='k', kind='line')\n",
    "    plt.errorbar(x, y, yerr = yerr, color='k', marker='o' )\n",
    "    plt.xlabel('Session')\n",
    "    plt.ylabel('Correct Recalls')\n",
    "    plt.xticks(np.arange(6,11,1, dtype=int))\n",
    "    plt.ylim(0,120)\n",
    "    #dir(bax.axs)\n",
    "    plt.savefig('figures/exp1_correct_recs.pdf')"
   ]
  },
  {
   "cell_type": "code",
   "execution_count": 17,
   "id": "e90ffe3f-bebd-4fdb-af33-08086a48d17e",
   "metadata": {},
   "outputs": [],
   "source": [
    "# number of intrusions in each session\n",
    "exp1_intr=exp1_data.drop_duplicates(subset=['subject', 'session', 'item_name']).query(\"type == 'FFR_REC_WORD' and intrusion == 1\").groupby(['subject','session']).agg(intr=\n",
    "                                                                                                             ('item_name','count')).reset_index()"
   ]
  },
  {
   "cell_type": "code",
   "execution_count": 18,
   "id": "c5a22092-655b-4ccc-a094-891909883e4c",
   "metadata": {},
   "outputs": [],
   "source": [
    "exp1_intr = exp1_intr.merge(missing_sessions, how='left', indicator=True).query('_merge == \"left_only\"').drop(columns='_merge')"
   ]
  },
  {
   "cell_type": "code",
   "execution_count": 19,
   "id": "cf562b8e-19d2-4014-aa7e-6fb0743d2f65",
   "metadata": {},
   "outputs": [],
   "source": [
    "exp1_intr.to_csv('dataframes/exp1_intr.csv', index=False)"
   ]
  },
  {
   "cell_type": "code",
   "execution_count": 20,
   "id": "f32ba899-e09f-4046-9ee6-877985208adb",
   "metadata": {},
   "outputs": [],
   "source": [
    "intr_masson_VFFR=loftus_masson(exp1_intr, 'subject', 'session', 'intr')"
   ]
  },
  {
   "cell_type": "code",
   "execution_count": 21,
   "id": "1cf5c0da-f293-4480-af49-4a34f21fa5db",
   "metadata": {},
   "outputs": [
    {
     "data": {
      "image/png": "[encoded data removed]",
      "text/plain": [
       "<Figure size 360x360 with 1 Axes>"
      ]
     },
     "metadata": {
      "needs_background": "light"
     },
     "output_type": "display_data"
    }
   ],
   "source": [
    "def std_ddof(a):\n",
    "    std = np.std(a, ddof=1)\n",
    "    return std\n",
    "with sns.plotting_context(context='paper', font_scale=1.5, \n",
    "#                           rc={'axes.labelsize': 100}\n",
    "                       ):\n",
    "    fig = plt.figure(figsize=(5, 5))\n",
    "    #bax = brokenaxes(ylims=((0, 2), (150, 260)), hspace=.08)\n",
    "    x = np.arange(6,11,1)\n",
    "    y = intr_masson_VFFR.groupby('session').agg(mean_correct=('adj_intr', 'mean'))['mean_correct'].to_numpy()\n",
    "    std = intr_masson_VFFR.groupby('session').agg(std=('adj_intr', std_ddof))['std'].to_numpy()\n",
    "    count = intr_masson_VFFR.groupby('session').agg(count=('adj_intr', 'count'))['count'].to_numpy()\n",
    "    yerr = 1.96 * (std / (count ** 0.5))\n",
    "    #sns.relplot(x='session', y='adj_correct_recs', data=correct_masson_repFR, color='k', kind='line')\n",
    "    plt.errorbar(x, y, yerr = yerr, color='k', marker='o' )\n",
    "    plt.xlabel('Session')\n",
    "    plt.ylabel('Intrusions')\n",
    "    plt.xticks(np.arange(6,11,1, dtype=int))\n",
    "    plt.ylim(0,40)\n",
    "    #dir(bax.axs)\n",
    "    plt.savefig('figures/exp1_intrusion_count.pdf')"
   ]
  },
  {
   "cell_type": "markdown",
   "id": "c1812c34-025f-47cb-9ef2-4d1abb92cb20",
   "metadata": {},
   "source": [
    "# Experiment 2"
   ]
  },
  {
   "cell_type": "code",
   "execution_count": 22,
   "id": "4abe6481-9a21-4238-99bc-f0b4960447c2",
   "metadata": {},
   "outputs": [
    {
     "name": "stderr",
     "output_type": "stream",
     "text": [
      "/usr/global/miniconda/py310_23.1.0-1/envs/workshop/lib/python3.7/site-packages/IPython/core/interactiveshell.py:3444: DtypeWarning: Columns (7,21,24,25) have mixed types.Specify dtype option on import or set low_memory=False.\n",
      "  exec(code_obj, self.user_global_ns, self.user_ns)\n"
     ]
    }
   ],
   "source": [
    "exp2_data = pd.read_csv('dataframes/exp2_ffr_evs.csv')"
   ]
  },
  {
   "cell_type": "code",
   "execution_count": 23,
   "id": "8e4fe588-2e38-43e7-8745-6a5cf38d1aed",
   "metadata": {},
   "outputs": [],
   "source": [
    "# final free recall events\n",
    "ffr_evs_FR = exp2_data.query(\"type == 'REC_WORD'\")\n",
    "ffr_evs_FR = ffr_evs_FR[ffr_evs_FR['list']==26]"
   ]
  },
  {
   "cell_type": "code",
   "execution_count": 24,
   "id": "204ed247-9402-4575-a8ad-7adf81f1dd36",
   "metadata": {},
   "outputs": [],
   "source": [
    "# remove recall repetitions\n",
    "ffr_evs_no_reps_FR = ffr_evs_FR.drop_duplicates(subset=['subject', 'session', 'item_name'])"
   ]
  },
  {
   "cell_type": "code",
   "execution_count": 25,
   "id": "48a8d32e-3add-4766-86af-c85ae8150e3f",
   "metadata": {},
   "outputs": [
    {
     "name": "stderr",
     "output_type": "stream",
     "text": [
      "/usr/global/miniconda/py310_23.1.0-1/envs/workshop/lib/python3.7/site-packages/ipykernel_launcher.py:1: SettingWithCopyWarning: \n",
      "A value is trying to be set on a copy of a slice from a DataFrame.\n",
      "Try using .loc[row_indexer,col_indexer] = value instead\n",
      "\n",
      "See the caveats in the documentation: https://pandas.pydata.org/pandas-docs/stable/user_guide/indexing.html#returning-a-view-versus-a-copy\n",
      "  \"\"\"Entry point for launching an IPython kernel.\n",
      "/usr/global/miniconda/py310_23.1.0-1/envs/workshop/lib/python3.7/site-packages/ipykernel_launcher.py:2: SettingWithCopyWarning: \n",
      "A value is trying to be set on a copy of a slice from a DataFrame.\n",
      "Try using .loc[row_indexer,col_indexer] = value instead\n",
      "\n",
      "See the caveats in the documentation: https://pandas.pydata.org/pandas-docs/stable/user_guide/indexing.html#returning-a-view-versus-a-copy\n",
      "  \n"
     ]
    }
   ],
   "source": [
    "ffr_evs_no_reps_FR['subject'] = ffr_evs_no_reps_FR['subject'].astype('category')\n",
    "ffr_evs_no_reps_FR['session'] = ffr_evs_no_reps_FR['session'].astype('category')"
   ]
  },
  {
   "cell_type": "code",
   "execution_count": 26,
   "id": "e20f26fc-c29f-4290-9f6c-55a0936ba1ed",
   "metadata": {},
   "outputs": [],
   "source": [
    "recs_FR = ffr_evs_no_reps_FR.groupby(['subject','session']).agg(recs=('item_name','count')).reset_index()"
   ]
  },
  {
   "cell_type": "code",
   "execution_count": 27,
   "id": "1f7d5488-8ea6-4d66-a6d0-0ae9c04e59b6",
   "metadata": {},
   "outputs": [],
   "source": [
    "#remove sessions with no data\n",
    "recs_FR = recs_FR.query('~((subject == \"LTP441\" and session == 1) or (subject == \"LTP445\" and session == 8))')"
   ]
  },
  {
   "cell_type": "code",
   "execution_count": 29,
   "id": "7bb95826-be96-4599-8dec-e00430b2bcb2",
   "metadata": {},
   "outputs": [],
   "source": [
    "recs_FR.to_csv('dataframes/exp2_recs.csv', index=False)"
   ]
  },
  {
   "cell_type": "code",
   "execution_count": 30,
   "id": "12714ff0-1001-44ea-9fa5-5225b6cff349",
   "metadata": {},
   "outputs": [],
   "source": [
    "correct_recs_FR=ffr_evs_no_reps_FR.query('intrusion!=-1').groupby(['subject','session']).agg(correct_recs=('item_name','count')).reset_index()"
   ]
  },
  {
   "cell_type": "code",
   "execution_count": 31,
   "id": "a259c40a-cdf1-4702-a24f-4ae7e92bf9d5",
   "metadata": {},
   "outputs": [],
   "source": [
    "#remove sessions with no data\n",
    "correct_recs_FR = correct_recs_FR.query('~((subject == \"LTP441\" and session == 1) or (subject == \"LTP445\" and session == 8))')"
   ]
  },
  {
   "cell_type": "code",
   "execution_count": 32,
   "id": "9e551226-5f3f-4ec2-abf1-4679f6270869",
   "metadata": {},
   "outputs": [],
   "source": [
    "correct_recs_FR.to_csv('dataframes/exp2_correct_recs.csv', index=False)"
   ]
  },
  {
   "cell_type": "code",
   "execution_count": 33,
   "id": "7f57adea-fe14-4c76-b11c-6a18a24d4523",
   "metadata": {},
   "outputs": [],
   "source": [
    "correct_masson_repFR=loftus_masson(correct_recs_FR, 'subject', 'session', 'correct_recs')"
   ]
  },
  {
   "cell_type": "code",
   "execution_count": 34,
   "id": "b9174551-70d9-4cb7-8fc0-7647171b23d8",
   "metadata": {},
   "outputs": [
    {
     "data": {
      "image/png": "[encoded data removed]",
      "text/plain": [
       "<Figure size 360x360 with 3 Axes>"
      ]
     },
     "metadata": {
      "needs_background": "light"
     },
     "output_type": "display_data"
    }
   ],
   "source": [
    "def std_ddof(a):\n",
    "    std = np.std(a, ddof=1)\n",
    "    return std\n",
    "\n",
    "with sns.plotting_context(context='paper', font_scale=1.5, \n",
    "#                           rc={'axes.labelsize': 100}\n",
    "                         ):\n",
    "    fig = plt.figure(figsize=(5, 5))\n",
    "    bax = brokenaxes(ylims=((0, 5), (150, 280)), hspace=.08)\n",
    "    x = np.arange(0,10,1)\n",
    "    y = correct_masson_repFR.groupby('session').agg(mean_correct=('adj_correct_recs', 'mean'))['mean_correct'].to_numpy()\n",
    "    std = correct_masson_repFR.groupby('session').agg(std=('adj_correct_recs', std_ddof))['std'].to_numpy()\n",
    "    count = correct_masson_repFR.groupby('session').agg(count=('adj_correct_recs', 'count'))['count'].to_numpy()\n",
    "    yerr = 1.96 * (std / (count ** 0.5))\n",
    "    #sns.relplot(x='session', y='adj_correct_recs', data=correct_masson_repFR, color='k', kind='line')\n",
    "    bax.errorbar(x, y, yerr = yerr, color='k', marker='o' )\n",
    "    bax.set_xticks(np.arange(1,10,1,dtype=int))\n",
    "    bax.set_xlabel('Session')\n",
    "    bax.set_ylabel('Correct Recalls')\n",
    "    #dir(bax.axs)\n",
    "    plt.savefig('figures/exp2_correct_recs.pdf')"
   ]
  },
  {
   "cell_type": "code",
   "execution_count": 35,
   "id": "57c06575-6eb2-4cf5-9291-e4ad5e1ac1f8",
   "metadata": {},
   "outputs": [],
   "source": [
    "exp2_intrusions=ffr_evs_no_reps_FR.query(\"intrusion==-1\").groupby(['subject','session']).agg(intrusions=('item_name','count')).reset_index()"
   ]
  },
  {
   "cell_type": "code",
   "execution_count": 36,
   "id": "08a9fa5a-9627-4887-a9ff-6aa696fd781d",
   "metadata": {},
   "outputs": [],
   "source": [
    "#remove sessions with no data\n",
    "exp2_intrusions = exp2_intrusions.query('~((subject == \"LTP441\" and session == 1) or (subject == \"LTP445\" and session == 8))')"
   ]
  },
  {
   "cell_type": "code",
   "execution_count": 37,
   "id": "54bad074-1e72-46ac-9e3d-ee60610af88a",
   "metadata": {},
   "outputs": [],
   "source": [
    "exp2_intrusions.to_csv('dataframes/exp2_intr.csv', index=False)"
   ]
  },
  {
   "cell_type": "code",
   "execution_count": 38,
   "id": "053d0152-66a4-4059-8785-d30631b837dc",
   "metadata": {},
   "outputs": [],
   "source": [
    "massongraph_FR=loftus_masson(exp2_intrusions, 'subject', 'session', 'intrusions')"
   ]
  },
  {
   "cell_type": "code",
   "execution_count": 39,
   "id": "41ebe70e-ae68-4c52-a4ac-dc8f468df43b",
   "metadata": {},
   "outputs": [
    {
     "data": {
      "image/png": "[encoded data removed]",
      "text/plain": [
       "<Figure size 360x360 with 1 Axes>"
      ]
     },
     "metadata": {
      "needs_background": "light"
     },
     "output_type": "display_data"
    }
   ],
   "source": [
    "def std_ddof(a):\n",
    "    std = np.std(a, ddof=1)\n",
    "    return std\n",
    "with sns.plotting_context(context='paper', font_scale=1.5, \n",
    "#                           rc={'axes.labelsize': 100}\n",
    "                       ):\n",
    "    fig = plt.figure(figsize=(5, 5))\n",
    "    #bax = brokenaxes(ylims=((0, 2), (150, 260)), hspace=.08)\n",
    "    x = np.arange(1,11,1)\n",
    "    y = massongraph_FR.groupby('session').agg(mean_correct=('adj_intrusions', 'mean'))['mean_correct'].to_numpy()\n",
    "    std = massongraph_FR.groupby('session').agg(std=('adj_intrusions', std_ddof))['std'].to_numpy()\n",
    "    count = massongraph_FR.groupby('session').agg(count=('adj_intrusions', 'count'))['count'].to_numpy()\n",
    "    yerr = 1.96 * (std / (count ** 0.5))\n",
    "    #sns.relplot(x='session', y='adj_correct_recs', data=correct_masson_repFR, color='k', kind='line')\n",
    "    plt.errorbar(x, y, yerr = yerr, color='k', marker='o' )\n",
    "    plt.xlabel('Session')\n",
    "    plt.ylabel('Intrusions')\n",
    "    plt.xticks(np.arange(1,11,1, dtype=int))\n",
    "    plt.ylim(0,10)\n",
    "    plt.yticks(np.arange(0,11,1, dtype=int))\n",
    "    #plt.ylim(0,4)\n",
    "    #dir(bax.axs)\n",
    "    plt.savefig('figures/exp2_intrusion_count.pdf')"
   ]
  }
 ],
 "metadata": {
  "kernelspec": {
   "display_name": "workshop",
   "language": "python",
   "name": "workshop"
  },
  "language_info": {
   "codemirror_mode": {
    "name": "ipython",
    "version": 3
   },
   "file_extension": ".py",
   "mimetype": "text/x-python",
   "name": "python",
   "nbconvert_exporter": "python",
   "pygments_lexer": "ipython3",
   "version": "3.7.6"
  }
 },
 "nbformat": 4,
 "nbformat_minor": 5
}
