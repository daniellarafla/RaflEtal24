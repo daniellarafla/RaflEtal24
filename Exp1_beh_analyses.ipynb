{
 "cells": [
  {
   "cell_type": "code",
   "execution_count": 1,
   "id": "0901938d-5be0-4979-9a55-110c9036a490",
   "metadata": {},
   "outputs": [],
   "source": [
    "%matplotlib inline\n",
    "import cmlreaders as cml\n",
    "from cmlreaders import CMLReader, get_data_index\n",
    "import matplotlib.pyplot as plt \n",
    "import matplotlib as mp\n",
    "from matplotlib.ticker import StrMethodFormatter\n",
    "from matplotlib.lines import Line2D\n",
    "\n",
    "import scipy \n",
    "from scipy import stats \n",
    "\n",
    "import pandas as pd \n",
    "import numpy as np\n",
    "import os \n",
    "import sys\n",
    "\n",
    "import pybeh_pd as pb\n",
    "import pybeh_pd_min as pb_min\n",
    "import seaborn as sns\n",
    "import importlib\n",
    "\n",
    "from brokenaxes import brokenaxes\n",
    "import seaborn as sns"
   ]
  },
  {
   "cell_type": "code",
   "execution_count": 2,
   "id": "59fff279-f821-499d-a87c-88912d04711f",
   "metadata": {},
   "outputs": [],
   "source": [
    "# Loftus-Masson (1994) adjustment for between-subject variability.\n",
    "def loftus_masson(df, sub_cols, cond_col, value_col, within_cols=[]):\n",
    "    if not isinstance(sub_cols, list):\n",
    "        sub_cols = [sub_cols]\n",
    "    if not isinstance(within_cols, list):\n",
    "        within_cols = [within_cols]\n",
    "    df = df.copy()\n",
    "    if len(within_cols) > 0:\n",
    "        df['M'] = df.groupby(within_cols)[value_col].transform('mean')\n",
    "    else:\n",
    "        df['M'] = df[value_col].mean()\n",
    "    df['M_S'] = df.groupby(sub_cols + within_cols)[value_col].transform('mean')\n",
    "    df['adj_' + value_col] = (df[value_col] + df['M'] - df['M_S'])\n",
    "    return df"
   ]
  },
  {
   "cell_type": "code",
   "execution_count": 3,
   "id": "87b46d12-43b9-4dc6-880d-6fb06cd0fd69",
   "metadata": {},
   "outputs": [],
   "source": [
    "exp1_data = pd.read_csv('dataframes/KateEtal22_filter_exp1_ffr_evs.csv')"
   ]
  },
  {
   "cell_type": "markdown",
   "id": "a5f6e984-73c1-4cdc-ad55-baa874059fe7",
   "metadata": {
    "tags": []
   },
   "source": [
    "# Semantic CRP"
   ]
  },
  {
   "cell_type": "markdown",
   "id": "2f3a8e11-d291-4a51-8759-860e34e98fa2",
   "metadata": {
    "tags": []
   },
   "source": [
    "## Overall effect"
   ]
  },
  {
   "cell_type": "code",
   "execution_count": 4,
   "id": "ed0ad494-33a4-4ac7-8da8-71e2f5d21141",
   "metadata": {
    "tags": []
   },
   "outputs": [],
   "source": [
    "sem_sim_num_df = pd.read_csv('dataframes/exp1_sem_sim_num_df.csv')"
   ]
  },
  {
   "cell_type": "code",
   "execution_count": 5,
   "id": "5f7e21b1-8955-4959-ac2b-8ecd92ebb371",
   "metadata": {},
   "outputs": [],
   "source": [
    "sem_sims = pd.pivot_table(sem_sim_num_df, index='item_num_1', columns='item_num_2', \n",
    "                          values='similarity', dropna=False)"
   ]
  },
  {
   "cell_type": "code",
   "execution_count": 6,
   "id": "0b3649af-9d5d-40a8-b53e-ee2787939e42",
   "metadata": {},
   "outputs": [],
   "source": [
    "#removing doughnut because there's no vector\n",
    "exp1_sem = exp1_data.query('not (item_name == \"DOUGHNUT\" and type == \"WORD\")')"
   ]
  },
  {
   "cell_type": "code",
   "execution_count": 7,
   "id": "037ed5b0-f966-4150-bf6b-6d73ac67ff4f",
   "metadata": {},
   "outputs": [],
   "source": [
    "exp1_sem = exp1_sem.query('session>=5')"
   ]
  },
  {
   "cell_type": "code",
   "execution_count": 8,
   "id": "625ecd67-1623-4cd8-9151-3fab9471e15f",
   "metadata": {},
   "outputs": [],
   "source": [
    "pb_sem_crp = exp1_sem.groupby(['subject', 'session']).apply(\n",
    "    pb.pd_sem_crp, list_index=['subject', 'session'], rec_type='FFR_REC_WORD',\n",
    "    itemno_column='item_num_new', sem_sims=sem_sims).reset_index()"
   ]
  },
  {
   "cell_type": "code",
   "execution_count": 9,
   "id": "c96fd2d2-11d7-4ca4-99f7-7c8e33436d29",
   "metadata": {},
   "outputs": [],
   "source": [
    "pb_sem_crp_sub = pb_sem_crp.groupby(['subject','sem_bin']).agg({'prob':np.nanmean, 'sem_bin_mean':np.nanmean}).reset_index()"
   ]
  },
  {
   "cell_type": "code",
   "execution_count": 10,
   "id": "ffb304b3-b65f-4a77-bc2f-a0441a020047",
   "metadata": {
    "tags": []
   },
   "outputs": [
    {
     "data": {
      "image/png": "[encoded data removed]",
      "text/plain": [
       "<Figure size 360x360 with 1 Axes>"
      ]
     },
     "metadata": {
      "needs_background": "light"
     },
     "output_type": "display_data"
    }
   ],
   "source": [
    "def std_ddof(a):\n",
    "    std = np.std(a, ddof=1)\n",
    "    return std\n",
    "\n",
    "with sns.plotting_context(context='paper', font_scale=1.5, \n",
    "                       ):\n",
    "    fig = plt.figure(figsize=(5, 5))\n",
    "    x = pb_sem_crp_sub.groupby('sem_bin').agg({'sem_bin_mean':np.nanmean})['sem_bin_mean']\n",
    "    y = pb_sem_crp_sub.groupby('sem_bin').agg(mean_sem=('prob', 'mean'))['mean_sem'].to_numpy()\n",
    "    std = pb_sem_crp_sub.groupby('sem_bin').agg(std=('prob', std_ddof))['std'].to_numpy()\n",
    "    count = pb_sem_crp_sub.groupby('sem_bin').agg(count=('subject', 'nunique'))['count'].to_numpy()\n",
    "    yerr = 1.96 * (std / (count ** 0.5))\n",
    "    \n",
    "    plt.errorbar(x, y, yerr = yerr, color='k', marker='o', markersize=8)\n",
    "    plt.xlabel('Average similarity bin')\n",
    "    plt.ylabel('Conditional Response Probability')\n",
    "    plt.ylim(0,0.6)\n",
    "    plt.xlim(-.04, 0.5)\n",
    "    \n",
    "    plt.savefig('figures/exp1_semcrp.pdf')"
   ]
  },
  {
   "cell_type": "markdown",
   "id": "24fabdd0-8f03-4f40-aa6a-482ad28cd4e9",
   "metadata": {
    "tags": []
   },
   "source": [
    "## Change in effect across sessions"
   ]
  },
  {
   "cell_type": "code",
   "execution_count": 11,
   "id": "5f4a28f3-4211-46e8-97bb-e99cf789d719",
   "metadata": {},
   "outputs": [],
   "source": [
    "exp1_dist_fact = exp1_sem.groupby(['subject', 'session']).apply(\n",
    "    pb.pd_dist_fact, list_index=['subject', 'session'], rec_type='FFR_REC_WORD',\n",
    "    itemno_column='item_num_new', dist_mat=sem_sims, is_similarity=True).reset_index().rename(columns={0:'prob'})"
   ]
  },
  {
   "cell_type": "code",
   "execution_count": 12,
   "id": "f2127554-45e6-4442-8390-4a1e1bd84079",
   "metadata": {},
   "outputs": [],
   "source": [
    "exp1_dist_fact.to_csv('dataframes/exp1_sem.csv', index=False)"
   ]
  },
  {
   "cell_type": "code",
   "execution_count": 13,
   "id": "0a94cec1-9092-4e07-9e30-906cc44ed8d4",
   "metadata": {},
   "outputs": [],
   "source": [
    "loftus_masson_sem=loftus_masson(exp1_dist_fact, 'subject', 'session', 'prob')"
   ]
  },
  {
   "cell_type": "markdown",
   "id": "431e8f24-5a77-4aad-9619-c77f14a93214",
   "metadata": {
    "tags": []
   },
   "source": [
    "# Lag-CRP "
   ]
  },
  {
   "cell_type": "markdown",
   "id": "54db5066-004d-4b05-8522-258f4371772c",
   "metadata": {
    "tags": []
   },
   "source": [
    "## Overall effect"
   ]
  },
  {
   "cell_type": "code",
   "execution_count": 14,
   "id": "b6483ff3-07a2-4b03-8b06-02188230780d",
   "metadata": {},
   "outputs": [
    {
     "name": "stderr",
     "output_type": "stream",
     "text": [
      "/usr/global/miniconda/py310_23.1.0-1/envs/workshop/lib/python3.7/site-packages/ipykernel_launcher.py:4: SettingWithCopyWarning: \n",
      "A value is trying to be set on a copy of a slice from a DataFrame.\n",
      "Try using .loc[row_indexer,col_indexer] = value instead\n",
      "\n",
      "See the caveats in the documentation: https://pandas.pydata.org/pandas-docs/stable/user_guide/indexing.html#returning-a-view-versus-a-copy\n",
      "  after removing the cwd from sys.path.\n"
     ]
    }
   ],
   "source": [
    "# the most recent encoding phase occurs prior to retrieval - adjusting for this to run script. \n",
    "word_evs = exp1_data.query('type == \"WORD\"')\n",
    "ffr_rec_evs = exp1_data.query('session >= 5 and type == \"FFR_REC_WORD\"')\n",
    "word_evs['session'] = word_evs['session'] + 1\n",
    "word_evs = word_evs[word_evs['session']<10]\n",
    "ffr_evs = pd.concat([word_evs, ffr_rec_evs])"
   ]
  },
  {
   "cell_type": "code",
   "execution_count": 15,
   "id": "6d7a180a-84f8-428e-871e-980c1d3526b4",
   "metadata": {},
   "outputs": [],
   "source": [
    "pb_lag_crp = ffr_evs.groupby(['subject','session']).apply(pb.pd_crp, list_index=['subject', 'session'], rec_type='FFR_REC_WORD',\n",
    "                                itemno_column='item_num_new', lag_num=10).reset_index()"
   ]
  },
  {
   "cell_type": "code",
   "execution_count": 16,
   "id": "849a9142-5d4b-4222-9cb0-b5940c481684",
   "metadata": {},
   "outputs": [],
   "source": [
    "pb_lag_crp_sub = pb_lag_crp.groupby(['subject','lag']).agg({'prob':'mean'}).reset_index()"
   ]
  },
  {
   "cell_type": "code",
   "execution_count": 17,
   "id": "b3d42745-cb13-4db3-9402-8a4068527a37",
   "metadata": {},
   "outputs": [
    {
     "data": {
      "image/png": "[encoded data removed]",
      "text/plain": [
       "<Figure size 360x360 with 1 Axes>"
      ]
     },
     "metadata": {
      "needs_background": "light"
     },
     "output_type": "display_data"
    }
   ],
   "source": [
    "def std_ddof(a):\n",
    "    std = np.std(a, ddof=1)\n",
    "    return std\n",
    "\n",
    "with sns.plotting_context(context='paper', font_scale=1.5): \n",
    "    fig = plt.figure(figsize=(5, 5))\n",
    "    x = np.arange(-10,11,dtype=int)\n",
    "    y = pb_lag_crp_sub.groupby('lag').agg({'prob':'mean'})['prob'].to_numpy()\n",
    "    std = pb_lag_crp_sub.groupby('lag').agg(std=('prob',std_ddof))['std'].to_numpy()\n",
    "    count = pb_lag_crp_sub.groupby('lag').agg(count=('prob','count'))['count'].to_numpy()\n",
    "    yerr = 1.96 * (std / (count ** 0.5))\n",
    "\n",
    "    plt.errorbar(x, y, yerr=yerr, color='k', marker='o', markersize=8, fillstyle='none');\n",
    "    plt.ylim(-0.007,0.50)\n",
    "    plt.xlabel('Lag')\n",
    "    plt.ylabel('Conditional Response Probability')\n",
    "    plt.xticks(np.arange(-10,11,2))\n",
    "    plt.savefig('figures/exp1_temp.pdf')"
   ]
  },
  {
   "cell_type": "markdown",
   "id": "c43b2482-4420-4184-b1e6-d1749c1d9b32",
   "metadata": {
    "tags": []
   },
   "source": [
    "## Change in effect across sessions"
   ]
  },
  {
   "cell_type": "code",
   "execution_count": 18,
   "id": "d8d0ebbf-8915-4bca-b0aa-adfb1e9c0aec",
   "metadata": {
    "tags": []
   },
   "outputs": [],
   "source": [
    "exp1_temp_fact = ffr_evs.groupby(['subject', 'session']).apply(\n",
    "    pb.pd_temp_fact, list_index=['subject', 'session'], pres_type=\"WORD\", rec_type='FFR_REC_WORD',\n",
    "    itemno_column='item_num_new').reset_index().rename(columns={0:'prob'})"
   ]
  },
  {
   "cell_type": "code",
   "execution_count": 19,
   "id": "1b1f64ad-db5c-42a6-9f52-f25695e52d85",
   "metadata": {},
   "outputs": [],
   "source": [
    "exp1_temp_fact = exp1_temp_fact.dropna(axis='rows')"
   ]
  },
  {
   "cell_type": "code",
   "execution_count": 20,
   "id": "6cc7d988-cf04-4811-bbde-5d4fee22de64",
   "metadata": {},
   "outputs": [],
   "source": [
    "exp1_temp_fact.to_csv('dataframes/exp1_temp.csv', index=False)"
   ]
  },
  {
   "cell_type": "code",
   "execution_count": 21,
   "id": "06805164-d7f9-4c68-aed9-d7f0605dd8c3",
   "metadata": {},
   "outputs": [],
   "source": [
    "loftus_masson_temp=loftus_masson(exp1_temp_fact, 'subject', 'session', 'prob')"
   ]
  },
  {
   "cell_type": "markdown",
   "id": "264375c6-6ac1-4547-b5ab-222fbab4fe3a",
   "metadata": {
    "tags": []
   },
   "source": [
    "## plotting change in semantic and temporal clustering effects on the same graph"
   ]
  },
  {
   "cell_type": "code",
   "execution_count": 22,
   "id": "6837dc09-7045-4578-8650-f45ab45d93ce",
   "metadata": {},
   "outputs": [
    {
     "data": {
      "image/png": "[encoded data removed]",
      "text/plain": [
       "<Figure size 360x360 with 3 Axes>"
      ]
     },
     "metadata": {
      "needs_background": "light"
     },
     "output_type": "display_data"
    }
   ],
   "source": [
    "def std_ddof(a):\n",
    "    std = np.std(a, ddof=1)\n",
    "    return std\n",
    "\n",
    "with sns.plotting_context(context='paper', font_scale=1.5, \n",
    "#                           rc={'axes.labelsize': 100}\n",
    "                         ):\n",
    "    fig = plt.figure(figsize=(5, 5))\n",
    "    bax = brokenaxes(ylims=((0, 0.01), (0.42\n",
    "                                        , 0.80)), hspace=.08)\n",
    "    x = np.arange(5,10,dtype=int)    \n",
    "    y_sem = loftus_masson_sem.groupby('session').agg(sem_prob=('adj_prob','mean'))['sem_prob'].to_numpy()\n",
    "    std_sem = loftus_masson_sem.groupby('session').agg(std=('adj_prob',std_ddof))['std'].to_numpy()\n",
    "    count_sem = loftus_masson_sem.groupby('session').agg(count=('adj_prob', 'count'))['count'].to_numpy()\n",
    "    yerr_sem = 1.96 * (std_sem / (count_sem ** 0.5))\n",
    "    bax.errorbar(x, y_sem, yerr = yerr_sem, color='k', marker='o', markersize=8, label='Semantic')\n",
    "    \n",
    "    y_temp = loftus_masson_temp.groupby('session').agg(sem_prob=('adj_prob','mean'))['sem_prob'].to_numpy()\n",
    "    std_temp = loftus_masson_temp.groupby('session').agg(std=('adj_prob',std_ddof))['std'].to_numpy()\n",
    "    count_temp = loftus_masson_temp.groupby('session').agg(count=('adj_prob', 'count'))['count'].to_numpy()\n",
    "    yerr_temp = 1.96 * (std_temp / (count_temp ** 0.5))\n",
    "    bax.errorbar(x, y_temp, yerr = yerr_temp, color='k', marker='o', markersize=8, fillstyle='none', label='Temporal')\n",
    "    \n",
    "    \n",
    "\n",
    "    #bax.legend(loc=3)\n",
    "    \n",
    "    bax.set_xticks(np.arange(5,10,1,dtype=int))\n",
    "    bax.set_xlabel('Session')\n",
    "    bax.set_ylabel('Clustering Score')\n",
    "    plt.savefig('figures/exp1_temp_and_sem.pdf')"
   ]
  },
  {
   "cell_type": "markdown",
   "id": "edb4daa3-7ab9-41e5-a296-40c3ab60a7a2",
   "metadata": {
    "tags": []
   },
   "source": [
    "# Subjective CRP"
   ]
  },
  {
   "cell_type": "markdown",
   "id": "5d9f62ce-d1fd-4d75-81fe-ec82f28cd724",
   "metadata": {
    "tags": []
   },
   "source": [
    "## Overall effect"
   ]
  },
  {
   "cell_type": "code",
   "execution_count": 23,
   "id": "f26bdacf-376d-4a22-8c34-31bb4a94a0f5",
   "metadata": {},
   "outputs": [],
   "source": [
    "subj_evs = exp1_data.query('type == \"FFR_REC_WORD\"')"
   ]
  },
  {
   "cell_type": "code",
   "execution_count": 24,
   "id": "d0531819-ebe5-49f3-b0d1-8a8549696c8e",
   "metadata": {
    "tags": []
   },
   "outputs": [],
   "source": [
    "# give item numbers to recalled items that will serve as presetation items\n",
    "item_col = 'item_name'\n",
    "item_num_col = 'ffr_item_num'\n",
    "item_num_df = subj_evs.drop_duplicates(subset=item_col, ignore_index=True\n",
    "                                    )[item_col].reset_index().rename(columns={'index': item_num_col})\n",
    "item_num_df[item_num_col] = item_num_df[item_num_col] + 1\n",
    "subj_evs = subj_evs.merge(item_num_df, how='left')"
   ]
  },
  {
   "cell_type": "code",
   "execution_count": 25,
   "id": "dd2a9887-b882-4ea7-b15d-d583c742f5c0",
   "metadata": {},
   "outputs": [],
   "source": [
    "ffr_pres_evs = subj_evs.copy()\n",
    "ffr_pres_evs['type'] = \"FFR_WORD\"\n",
    "ffr_pres_evs['session'] = ffr_pres_evs['session'] + 1\n",
    "ffr_pres_evs = ffr_pres_evs.query('session!=10')"
   ]
  },
  {
   "cell_type": "code",
   "execution_count": 26,
   "id": "b5fecc97-4b9a-4067-9b31-b992c19aba5d",
   "metadata": {},
   "outputs": [],
   "source": [
    "num_recs = ffr_pres_evs.groupby(['subject','session']).agg(num_recs=('item_name','count')).reset_index()"
   ]
  },
  {
   "cell_type": "code",
   "execution_count": 27,
   "id": "62fecfa2-36cf-4ba4-a078-abbec7005fe5",
   "metadata": {},
   "outputs": [],
   "source": [
    "ffr_pres_evs_overall = ffr_pres_evs.merge(num_recs, on=['subject','session'], how='left')"
   ]
  },
  {
   "cell_type": "code",
   "execution_count": 28,
   "id": "23371245-ae9e-4962-a9ab-e1cb1b321c58",
   "metadata": {},
   "outputs": [],
   "source": [
    "# only keep sessions with more than 10 recalls serving as presentation events\n",
    "ffr_pres_evs_overall = ffr_pres_evs_overall[ffr_pres_evs_overall['num_recs']>10]"
   ]
  },
  {
   "cell_type": "code",
   "execution_count": 29,
   "id": "1fa113b9-598c-48fb-9427-63d81587c903",
   "metadata": {},
   "outputs": [],
   "source": [
    "# sessions 1-4 have no free recall task, so no presenation evs for session 5\n",
    "ffr_rec_evs = subj_evs.query('session != 5') "
   ]
  },
  {
   "cell_type": "code",
   "execution_count": 30,
   "id": "fbff6a42-30b1-471d-b45a-6aa24e263f80",
   "metadata": {},
   "outputs": [],
   "source": [
    "ffr_subj_org_evs_overall = pd.concat([ffr_pres_evs_overall, ffr_rec_evs])"
   ]
  },
  {
   "cell_type": "code",
   "execution_count": 31,
   "id": "0bea2a95-ba50-450a-8714-746e603573c2",
   "metadata": {},
   "outputs": [],
   "source": [
    "pb_min_crp = ffr_subj_org_evs_overall.groupby(['subject', 'session']).apply(pb_min.pd_min_crp_subj, lag_num=10,list_index=['subject', 'session'],\n",
    "                                                   pres_type='FFR_WORD',\n",
    "                                          rec_type='FFR_REC_WORD', \n",
    "                                          itemno_column='ffr_item_num', \n",
    "                                           max_n_reps=4).reset_index()"
   ]
  },
  {
   "cell_type": "code",
   "execution_count": 32,
   "id": "ade2a4cb-2c63-442c-a821-c484f28624bf",
   "metadata": {},
   "outputs": [],
   "source": [
    "pb_min_crp = pb_min_crp.groupby(['subject', 'lag']).agg({'prob':'mean'}).reset_index()"
   ]
  },
  {
   "cell_type": "code",
   "execution_count": 33,
   "id": "49ccfd65-66a6-4a70-bab1-bbbaaeea1327",
   "metadata": {},
   "outputs": [
    {
     "data": {
      "image/png": "[encoded data removed]",
      "text/plain": [
       "<Figure size 360x360 with 1 Axes>"
      ]
     },
     "metadata": {
      "needs_background": "light"
     },
     "output_type": "display_data"
    }
   ],
   "source": [
    "def std_ddof(a):\n",
    "    std = np.std(a, ddof=1)\n",
    "    return std\n",
    "\n",
    "with sns.plotting_context(context='paper', font_scale=1.5): \n",
    "    fig = plt.figure(figsize=(5, 5))\n",
    "    x = np.arange(-10,11,dtype=int)\n",
    "    y = pb_min_crp.groupby('lag').agg({'prob':'mean'})['prob'].to_numpy()\n",
    "    std = pb_min_crp.groupby('lag').agg(std=('prob',std_ddof))['std'].to_numpy()\n",
    "    count = pb_min_crp.groupby('lag').agg(count=('prob','count'))['count'].to_numpy()\n",
    "    yerr = 1.96 * (std / (count ** 0.5))\n",
    "\n",
    "    plt.errorbar(x, y, yerr=yerr, color='k', marker='o');\n",
    "    plt.ylim(0,0.45)\n",
    "    plt.yticks(np.arange(0,0.5,0.1))\n",
    "    plt.xlabel('Lag')\n",
    "    plt.ylabel('Conditional Response Probability')\n",
    "    plt.xticks(np.arange(-10,11,2))\n",
    "    plt.savefig('figures/exp1_subj.pdf')"
   ]
  },
  {
   "cell_type": "markdown",
   "id": "bad70e13-e124-4c01-9bde-e94a281ad91e",
   "metadata": {
    "tags": []
   },
   "source": [
    "## Change in the effect across sessions"
   ]
  },
  {
   "cell_type": "code",
   "execution_count": 34,
   "id": "83bf1828-2b19-491d-bc44-46665c0ec047",
   "metadata": {},
   "outputs": [],
   "source": [
    "ffr_subj_org_evs = pd.concat([ffr_pres_evs, ffr_rec_evs])"
   ]
  },
  {
   "cell_type": "code",
   "execution_count": 35,
   "id": "35b41387-c9d2-41fb-8395-122fa705ab33",
   "metadata": {
    "tags": []
   },
   "outputs": [],
   "source": [
    "exp1_subj_fact = ffr_subj_org_evs.groupby(['subject', 'session']).apply(\n",
    "    pb.pd_min_temp_fact, pres_type=\"FFR_WORD\", rec_type='FFR_REC_WORD', list_index=['subject', 'session'],\n",
    "    itemno_column='ffr_item_num', max_n_reps=4).to_frame('prob').reset_index()"
   ]
  },
  {
   "cell_type": "code",
   "execution_count": 36,
   "id": "e90b06bf-6f3d-4462-a7bd-7092727dddbd",
   "metadata": {},
   "outputs": [],
   "source": [
    "exp1_subj_fact = exp1_subj_fact.dropna(axis='rows')"
   ]
  },
  {
   "cell_type": "code",
   "execution_count": 37,
   "id": "22fec5ec-43c1-45e7-a778-fa0487012d69",
   "metadata": {},
   "outputs": [],
   "source": [
    "exp1_subj_fact.to_csv('dataframes/exp1_subj.csv', index=False)"
   ]
  },
  {
   "cell_type": "code",
   "execution_count": 38,
   "id": "db69640b-a14b-4838-8c5f-f4c525768ea4",
   "metadata": {},
   "outputs": [],
   "source": [
    "loftus_masson_subj=loftus_masson(exp1_subj_fact, 'subject', 'session', 'prob')"
   ]
  },
  {
   "cell_type": "code",
   "execution_count": 39,
   "id": "114e8eb0-1940-4559-b62c-dea40a140a53",
   "metadata": {},
   "outputs": [
    {
     "data": {
      "image/png": "[encoded data removed]",
      "text/plain": [
       "<Figure size 360x360 with 3 Axes>"
      ]
     },
     "metadata": {
      "needs_background": "light"
     },
     "output_type": "display_data"
    }
   ],
   "source": [
    "def std_ddof(a):\n",
    "    std = np.std(a, ddof=1)\n",
    "    return std\n",
    "\n",
    "with sns.plotting_context(context='paper', font_scale=1.5, \n",
    "#                           rc={'axes.labelsize': 100}\n",
    "                         ):\n",
    "    fig = plt.figure(figsize=(5, 5))\n",
    "    bax = brokenaxes(ylims=((0, 0.02), (0.42, 0.9)), hspace=.08)\n",
    "    x = np.arange(6,10,dtype=int)\n",
    "    y = loftus_masson_subj.groupby('session').agg(subj_prob=('adj_prob','mean'))['subj_prob'].to_numpy()\n",
    "    std = loftus_masson_subj.groupby('session').agg(std=('adj_prob',std_ddof))['std'].to_numpy()\n",
    "    count = loftus_masson_subj.groupby('session').agg(count=('adj_prob', 'count'))['count'].to_numpy()\n",
    "\n",
    "    yerr = 1.96 * (std / (count ** 0.5))\n",
    "    bax.errorbar(x,y, yerr = yerr, color='k', marker='o' )\n",
    "    #bax.errorbar(x,y, yerr = yerr, color='k', marker='o' )\n",
    "    #bax.ylim(0,0.40)\n",
    "    bax.set_xticks(np.arange(6,10,1,dtype=int))\n",
    "    bax.set_xlabel('Session')\n",
    "    bax.set_ylabel('Subjective Clustering Score')\n",
    "    plt.savefig('figures/exp1_subjtrend.pdf')"
   ]
  },
  {
   "cell_type": "markdown",
   "id": "7cb443bd-03f4-4e43-9439-f9aac1a1ddc7",
   "metadata": {
    "tags": []
   },
   "source": [
    "# Intrusion analysis"
   ]
  },
  {
   "cell_type": "code",
   "execution_count": 40,
   "id": "099cc59a-58e8-4876-96fd-1b14a3417bb5",
   "metadata": {},
   "outputs": [],
   "source": [
    "exp1_data = pd.read_csv('dataframes/KateEtal22_filter_exp1_ffr_evs.csv')"
   ]
  },
  {
   "cell_type": "code",
   "execution_count": 41,
   "id": "ee4adbe8-31e8-4cec-a88f-fb1780d4773b",
   "metadata": {},
   "outputs": [],
   "source": [
    "exp1_ffr = exp1_data[(exp1_data['type']=='FFR_REC_WORD') & (exp1_data['session']>= 5)]"
   ]
  },
  {
   "cell_type": "code",
   "execution_count": 42,
   "id": "1b0a6e15-9bec-42fa-84b9-411697b2e72b",
   "metadata": {},
   "outputs": [],
   "source": [
    "# get intrusion events, drop within session repetitions\n",
    "intrusion_evs = exp1_ffr.query('intrusion==1').drop_duplicates(subset=['subject', 'session', 'item_name'])"
   ]
  },
  {
   "cell_type": "code",
   "execution_count": 43,
   "id": "a3ec2362-1772-4062-b241-f73928b70307",
   "metadata": {},
   "outputs": [],
   "source": [
    "# add a column that counts the number of reps for each intrusion across a subject's sessions\n",
    "intrusion_evs['rep_number'] = intrusion_evs.groupby(['subject','item_name']).cumcount()\n"
   ]
  },
  {
   "cell_type": "code",
   "execution_count": 44,
   "id": "da83fc36-ae06-4f23-a1f6-1180928eba33",
   "metadata": {},
   "outputs": [],
   "source": [
    "reps_per_sub = intrusion_evs[['subject', 'item_name', 'rep_number']]"
   ]
  },
  {
   "cell_type": "code",
   "execution_count": 45,
   "id": "c702e98e-4128-4328-867b-b3f473ffea10",
   "metadata": {},
   "outputs": [],
   "source": [
    "# only keep the first two occurences of each intrusion\n",
    "intrusion_evs = intrusion_evs[intrusion_evs['rep_number']<=1]"
   ]
  },
  {
   "cell_type": "code",
   "execution_count": 46,
   "id": "9f0aa58c-5f14-4783-bbda-5af179fcb84d",
   "metadata": {},
   "outputs": [],
   "source": [
    "intrusion_evs.rename(columns={'item_name':'intrusion_name'}, inplace=True)"
   ]
  },
  {
   "cell_type": "code",
   "execution_count": 47,
   "id": "9765fc95-144d-4c6b-8fa7-2b7753e9aed1",
   "metadata": {},
   "outputs": [],
   "source": [
    "intrusion_evs = intrusion_evs[['subject','session','intrusion_name','rep_number']]"
   ]
  },
  {
   "cell_type": "code",
   "execution_count": 48,
   "id": "1a6b70ea-1dbc-49bc-955d-2323dbdebc84",
   "metadata": {},
   "outputs": [],
   "source": [
    "# dataframe gives the intersession lag for each intrusion\n",
    "df_lags = intrusion_evs.groupby(['subject','intrusion_name']).agg(lag=('session',np.diff)).reset_index()"
   ]
  },
  {
   "cell_type": "code",
   "execution_count": 49,
   "id": "ee549ae4-c4db-4272-a440-405f48413c12",
   "metadata": {},
   "outputs": [],
   "source": [
    "# merge intrusion events and their corresponding intersession lag\n",
    "merge_intr_and_lag = intrusion_evs.merge(df_lags, on=['subject','intrusion_name'])[['subject','session','intrusion_name','lag','rep_number']]"
   ]
  },
  {
   "cell_type": "code",
   "execution_count": 50,
   "id": "c0e3088d-245c-49b7-aac7-e203d5a55435",
   "metadata": {},
   "outputs": [],
   "source": [
    "# remove the second occurence of the intrusion from the intrusion events DF (we no longer needed since lags are already computed)\n",
    "intr_no_within_subj_rep = intrusion_evs.drop_duplicates(subset=['subject', 'intrusion_name'])"
   ]
  },
  {
   "cell_type": "code",
   "execution_count": 51,
   "id": "048dc8a0-7b84-4880-bedd-fbd0b40b7c9b",
   "metadata": {},
   "outputs": [],
   "source": [
    "# DF with the number of new intrusions per session\n",
    "intr_count_df = intr_no_within_subj_rep.groupby(['subject','session']).agg(intr_count = ('intrusion_name','count')).reset_index()"
   ]
  },
  {
   "cell_type": "code",
   "execution_count": 52,
   "id": "bfff183b-00b0-4143-86d0-b04f2d0ffe97",
   "metadata": {},
   "outputs": [],
   "source": [
    "# get a DF with the list of sessions per subject\n",
    "session_df = exp1_ffr.groupby(['subject','session']).agg({'item_name':'count'}).reset_index()[['subject','session']]"
   ]
  },
  {
   "cell_type": "code",
   "execution_count": 53,
   "id": "acc527c7-7298-4bba-94e0-13283f56a641",
   "metadata": {},
   "outputs": [],
   "source": [
    "# DF with the sessions and intrusions of each subject (to include sessions that have 0 intrusions, which will have an intr count of NaN here)\n",
    "intr_and_sess_df = session_df.merge(intr_count_df, on=['subject','session'], how='left')"
   ]
  },
  {
   "cell_type": "code",
   "execution_count": 54,
   "id": "b03282fe-70a9-48ab-9cb8-0ebaabdbe5ec",
   "metadata": {},
   "outputs": [],
   "source": [
    "lst_of_sess = []\n",
    "lst_of_intr_num = []\n",
    "subjects = []\n",
    "\n",
    "for l, li in intr_and_sess_df.groupby(['subject']):\n",
    "    lst_of_sess.append(li['session'].tolist())\n",
    "    lst_of_intr_num.append(li['intr_count'].tolist())\n",
    "    subjects.append(l)"
   ]
  },
  {
   "cell_type": "code",
   "execution_count": 55,
   "id": "66d9b3f4-091b-4444-862f-ecdc80618497",
   "metadata": {
    "tags": []
   },
   "outputs": [],
   "source": [
    "poss_lags = np.zeros((len(subjects), 4))\n",
    "sub_counter = 0\n",
    "for sess_lst, intr_num_lst in zip(lst_of_sess, lst_of_intr_num):\n",
    "    # print('sess_lst:', sess_lst)\n",
    "    # print('intr_num_lst:',intr_num_lst)\n",
    "    \n",
    "    poss_lags_sub = np.zeros(4)\n",
    "    \n",
    "    for sess, intr in zip(sess_lst, intr_num_lst):\n",
    "        if sess != 9 and ~np.isnan(intr):\n",
    "            poss_lags_sub[:9-sess]+=intr\n",
    "            \n",
    "    poss_lags[sub_counter,:]+=poss_lags_sub\n",
    "    sub_counter+=1"
   ]
  },
  {
   "cell_type": "code",
   "execution_count": 56,
   "id": "587c3817-ba39-402e-af39-19b16f858b3d",
   "metadata": {},
   "outputs": [],
   "source": [
    "new_df_lags = df_lags[df_lags['lag']!=int]"
   ]
  },
  {
   "cell_type": "code",
   "execution_count": 57,
   "id": "f16b65cc-1c4c-4772-9ebe-d89af72732cb",
   "metadata": {},
   "outputs": [],
   "source": [
    "# DF with the number of intrusions per lag, within subject\n",
    "actual_count_df = new_df_lags.groupby(['subject','lag']).agg(actual_lag_count=('intrusion_name','count')).reset_index()"
   ]
  },
  {
   "cell_type": "code",
   "execution_count": 58,
   "id": "0cb74730-aa7f-4b68-95e5-7d1f5708435f",
   "metadata": {},
   "outputs": [],
   "source": [
    "# DF with the number of possible repetitions across sessions per lag, within subject\n",
    "poss_count_df = pd.DataFrame(poss_lags)\n",
    "poss_count_df['subject'] = pd.Series(subjects)\n",
    "poss_count_df = poss_count_df.rename(columns={0:1, 1:2, 2:3, 3:4})\n",
    "poss_count_df = poss_count_df.melt(id_vars='subject', value_vars=[1, 2, 3, 4], value_name='poss_lag_count', var_name='lag')"
   ]
  },
  {
   "cell_type": "code",
   "execution_count": 59,
   "id": "54e6d65a-1bce-4c86-bfae-fc55a3132987",
   "metadata": {},
   "outputs": [],
   "source": [
    "intr_lag_df = actual_count_df.merge(poss_count_df, on=['subject','lag'], how = 'right')"
   ]
  },
  {
   "cell_type": "code",
   "execution_count": 60,
   "id": "40f5e294-41d5-4804-ad0d-de7808669283",
   "metadata": {},
   "outputs": [],
   "source": [
    "intr_lag_df = intr_lag_df.fillna(0)"
   ]
  },
  {
   "cell_type": "code",
   "execution_count": 61,
   "id": "68780e95-379e-41dd-8cb9-31344b07b166",
   "metadata": {},
   "outputs": [],
   "source": [
    "intr_lag_df['prob'] = intr_lag_df['actual_lag_count'] / intr_lag_df['poss_lag_count']"
   ]
  },
  {
   "cell_type": "code",
   "execution_count": 62,
   "id": "b10730bb-36dd-44a0-a8f3-54b08849ee97",
   "metadata": {},
   "outputs": [],
   "source": [
    "intr_lag_df.to_csv('dataframes/exp1_intr_analysis_data.csv', index=False)"
   ]
  },
  {
   "cell_type": "code",
   "execution_count": 63,
   "id": "715df467-0fd1-4685-af35-e09ef5bbe5ae",
   "metadata": {},
   "outputs": [
    {
     "data": {
      "image/png": "[encoded data removed]",
      "text/plain": [
       "<Figure size 360x360 with 1 Axes>"
      ]
     },
     "metadata": {
      "needs_background": "light"
     },
     "output_type": "display_data"
    }
   ],
   "source": [
    "def std_ddof(a):\n",
    "    std = np.std(a, ddof=1)\n",
    "    return std\n",
    "\n",
    "with sns.plotting_context(context='paper', font_scale=1.5): \n",
    "    fig = plt.figure(figsize=(5,5))\n",
    "    x = np.arange(1,5,1,dtype=int)\n",
    "    y = intr_lag_df.groupby('lag').agg({'prob':'mean'})['prob'].to_numpy()\n",
    "    std = intr_lag_df.groupby('lag').agg(std=('prob',std_ddof))['std'].to_numpy()\n",
    "    count = intr_lag_df.groupby('lag').agg(count=('prob','count'))['count'].to_numpy()\n",
    "    yerr = 1.96 * (std / (count ** 0.5))\n",
    "    \n",
    "    plt.errorbar(x, y, yerr=yerr, color='k', marker='o')\n",
    "    plt.xticks(np.arange(1,5,1,dtype=int))\n",
    "    plt.ylim(0,0.30)\n",
    "    plt.xlabel('Intersession Lag')\n",
    "    plt.ylabel('Probability of Intrusion Repetition')\n",
    "    plt.savefig('figures/exp1_intrusion.pdf')\n",
    "\n"
   ]
  }
 ],
 "metadata": {
  "kernelspec": {
   "display_name": "workshop",
   "language": "python",
   "name": "workshop"
  },
  "language_info": {
   "codemirror_mode": {
    "name": "ipython",
    "version": 3
   },
   "file_extension": ".py",
   "mimetype": "text/x-python",
   "name": "python",
   "nbconvert_exporter": "python",
   "pygments_lexer": "ipython3",
   "version": "3.7.6"
  }
 },
 "nbformat": 4,
 "nbformat_minor": 5
}
