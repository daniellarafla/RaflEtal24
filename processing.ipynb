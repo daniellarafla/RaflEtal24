{
 "cells": [
  {
   "cell_type": "code",
   "execution_count": 1,
   "id": "08c3c602-6d5e-4df2-aa94-a1ae9cd26013",
   "metadata": {},
   "outputs": [],
   "source": [
    "import cmlreaders as cml\n",
    "from cmlreaders import CMLReader, get_data_index\n",
    "import pandas as pd \n",
    "import numpy as np\n",
    "import os \n"
   ]
  },
  {
   "cell_type": "markdown",
   "id": "ed015d8f-19d3-477e-9dd7-118a0e47571f",
   "metadata": {},
   "source": [
    "# Experiment 1"
   ]
  },
  {
   "cell_type": "code",
   "execution_count": 2,
   "id": "037be41a-08c8-445d-8e6c-5f5c39b6b21a",
   "metadata": {},
   "outputs": [
    {
     "name": "stdout",
     "output_type": "stream",
     "text": [
      "all_events                                                        NaN\n",
      "experiment                                                       VFFR\n",
      "import_type                                                     build\n",
      "math_events                                                       NaN\n",
      "original_session                                                    0\n",
      "session                                                             0\n",
      "subject                                                        LTP414\n",
      "subject_alias                                                  LTP414\n",
      "task_events         protocols/ltp/subjects/LTP414/experiments/VFFR...\n",
      "Name: 6653, dtype: object\n",
      "all_events                                                        NaN\n",
      "experiment                                                       VFFR\n",
      "import_type                                                     build\n",
      "math_events                                                       NaN\n",
      "original_session                                                    3\n",
      "session                                                             3\n",
      "subject                                                        LTP427\n",
      "subject_alias                                                  LTP427\n",
      "task_events         protocols/ltp/subjects/LTP427/experiments/VFFR...\n",
      "Name: 6775, dtype: object\n",
      "all_events                                                        NaN\n",
      "experiment                                                       VFFR\n",
      "import_type                                                     build\n",
      "math_events                                                       NaN\n",
      "original_session                                                    3\n",
      "session                                                             3\n",
      "subject                                                        LTP431\n",
      "subject_alias                                                  LTP431\n",
      "task_events         protocols/ltp/subjects/LTP431/experiments/VFFR...\n",
      "Name: 6810, dtype: object\n"
     ]
    }
   ],
   "source": [
    "data = cml.get_data_index(kind = 'ltp'); data = data[data['experiment']=='VFFR']\n",
    "sess_evs_list = []\n",
    "for i, row in data.iterrows():\n",
    "    try:\n",
    "        reader = CMLReader(subject=row['subject'], session=row['session'], experiment=row['experiment'])\n",
    "        sess_evs = reader.load('task_events')\n",
    "        sess_evs_list.append(sess_evs)\n",
    "    except:\n",
    "        print(row)"
   ]
  },
  {
   "cell_type": "code",
   "execution_count": 6,
   "id": "9f79d8e1-8af6-4b08-a901-1b5f1363a202",
   "metadata": {},
   "outputs": [],
   "source": [
    "exp1_all_evs = pd.concat(sess_evs_list)"
   ]
  },
  {
   "cell_type": "code",
   "execution_count": 7,
   "id": "36441cdf-dea2-485e-bbf4-d5d47bc49383",
   "metadata": {},
   "outputs": [],
   "source": [
    "exp1_all_evs.to_csv('dataframes/exp1_all_evs.csv', index=False)"
   ]
  },
  {
   "cell_type": "code",
   "execution_count": 8,
   "id": "b098fcab-a97d-4586-8153-8843fdaa8747",
   "metadata": {},
   "outputs": [],
   "source": [
    "exp1_ffr_evs = exp1_all_evs.query('type == [\"WORD\", \"FFR_REC_WORD\"]')"
   ]
  },
  {
   "cell_type": "code",
   "execution_count": 9,
   "id": "413c5cd2-1334-4c9a-b6e0-efa196faf000",
   "metadata": {},
   "outputs": [],
   "source": [
    "# assign item number in the order of presentation\n",
    "item_col = 'item_name'\n",
    "item_num_col = 'item_num'\n",
    "item_num_df = exp1_ffr_evs.query(\"type=='WORD'\").drop_duplicates(subset=item_col, ignore_index=True\n",
    "                                    )[item_col].reset_index().rename(columns={'index': item_num_col})\n",
    "item_num_df[item_num_col] = item_num_df[item_num_col] + 1\n",
    "events_new = exp1_ffr_evs.merge(item_num_df, on=item_col, suffixes=('', '_new'), \n",
    "                          how='left', sort=False)#.sort_values('mstime')\n",
    "events_new.fillna({'item_num_new': -999}, inplace=True)"
   ]
  },
  {
   "cell_type": "code",
   "execution_count": 10,
   "id": "8e535b4b-0260-4c47-b502-29cb59037bc0",
   "metadata": {},
   "outputs": [],
   "source": [
    "exp1_ffr_evs = events_new"
   ]
  },
  {
   "cell_type": "code",
   "execution_count": 11,
   "id": "c1d38f9b-cac8-4f54-88f7-24373d2b24f2",
   "metadata": {},
   "outputs": [],
   "source": [
    "# number of sessions per subject\n",
    "n_sess_df = exp1_ffr_evs.groupby('subject', as_index=False).agg({'session': 'nunique'})"
   ]
  },
  {
   "cell_type": "code",
   "execution_count": 12,
   "id": "a15d7284-a3b6-4528-bbdf-9dcca979ffec",
   "metadata": {},
   "outputs": [],
   "source": [
    "# subjects who contributed fewer than 7 sessions\n",
    "few_sess_subs_7 = n_sess_df.query('session < 7').subject.values.tolist()"
   ]
  },
  {
   "cell_type": "code",
   "execution_count": 13,
   "id": "119c4409-93ac-4fa0-97af-8999df2124ca",
   "metadata": {},
   "outputs": [],
   "source": [
    "# only include subjects who scored above .7 on every session\n",
    "prop_correct_df = exp1_ffr_evs.query('type == \"WORD\"').groupby(['subject', 'session']).agg({'correct': 'sum'}).reset_index()\n",
    "prop_correct_df['prop_correct'] = prop_correct_df['correct'] / (24 * 24)\n",
    "low_prop_correct_subs = prop_correct_df.query('prop_correct < .7').subject.values.tolist()"
   ]
  },
  {
   "cell_type": "code",
   "execution_count": 14,
   "id": "5f47154f-ff4f-4856-ba22-2eeede641b81",
   "metadata": {},
   "outputs": [],
   "source": [
    "exclude_subs = few_sess_subs_7 + low_prop_correct_subs \n",
    "exp1_ffr_evs_KateEtal22 = exp1_ffr_evs.query('subject != @exclude_subs and session >= 4 and session <= 10')"
   ]
  },
  {
   "cell_type": "code",
   "execution_count": 15,
   "id": "6b6aa367-fc08-44e3-b2a8-1570d18cf988",
   "metadata": {},
   "outputs": [],
   "source": [
    "exp1_ffr_evs_KateEtal22.to_csv('dataframes/KateEtal22_filter_exp1_ffr_evs.csv', index=False)"
   ]
  },
  {
   "cell_type": "code",
   "execution_count": 16,
   "id": "57349423-a0a5-48dd-b87e-43c65b18e893",
   "metadata": {},
   "outputs": [
    {
     "name": "stderr",
     "output_type": "stream",
     "text": [
      "/home1/rafla/.local/lib/python3.7/site-packages/gensim/similarities/__init__.py:15: UserWarning: The gensim.similarities.levenshtein submodule is disabled, because the optional Levenshtein package <https://pypi.org/project/python-Levenshtein/> is unavailable. Install Levenhstein (e.g. `pip install python-Levenshtein`) to suppress this warning.\n",
      "  warnings.warn(msg)\n"
     ]
    }
   ],
   "source": [
    "from gensim.models import KeyedVectors\n",
    "word2vec_vectors = KeyedVectors.load_word2vec_format(\"/scratch/rafla/GoogleNews-vectors-negative300.bin\", binary=True)"
   ]
  },
  {
   "cell_type": "code",
   "execution_count": 17,
   "id": "7fc4d4fc-627b-4443-aef0-f1f6c9c5f12f",
   "metadata": {
    "tags": []
   },
   "outputs": [],
   "source": [
    "def word_similarity(df, col1, col2, keyed_vector=None):\n",
    "    try:\n",
    "        return keyed_vector.similarity(df[col1].lower(), df[col2].lower())\n",
    "    except:\n",
    "        return np.nan"
   ]
  },
  {
   "cell_type": "code",
   "execution_count": 18,
   "id": "6f2eeda4-8441-43ab-8a98-839fbe1721f5",
   "metadata": {
    "tags": []
   },
   "outputs": [],
   "source": [
    "# get all pairs of items\n",
    "items = item_num_df.item_name.values\n",
    "sem_sim_df = pd.MultiIndex.from_product([items, items], names=['item_1', 'item_2']).to_frame(index=False)"
   ]
  },
  {
   "cell_type": "code",
   "execution_count": 19,
   "id": "f9016c45-1ac8-414f-a734-a6de0d1a2a25",
   "metadata": {
    "tags": []
   },
   "outputs": [],
   "source": [
    "# compute similarity of all pairs\n",
    "sem_sim_df['similarity'] = sem_sim_df.apply(word_similarity, \n",
    "               axis=1, col1='item_1', \n",
    "               col2='item_2', \n",
    "               keyed_vector=word2vec_vectors)"
   ]
  },
  {
   "cell_type": "code",
   "execution_count": 20,
   "id": "f7afa0b5-2fb4-49f5-8926-9626512dc778",
   "metadata": {
    "tags": []
   },
   "outputs": [],
   "source": [
    "sem_sim_num_df = sem_sim_df.merge(\n",
    "    item_num_df, left_on='item_1', right_on=item_col).merge(\n",
    "    item_num_df, left_on='item_2', right_on=item_col, suffixes=('_1', '_2')).drop(columns=['item_1', 'item_2'])"
   ]
  },
  {
   "cell_type": "code",
   "execution_count": 21,
   "id": "46efd8e8-6a62-4732-ab4f-7cdd8dd48be9",
   "metadata": {
    "tags": []
   },
   "outputs": [],
   "source": [
    "sem_sim_num_df.to_csv('dataframes/exp1_sem_sim_num_df.csv', index=False)"
   ]
  },
  {
   "cell_type": "markdown",
   "id": "c8760536-8b2a-4bfb-b537-87149a88727a",
   "metadata": {},
   "source": [
    "# Experiment 2"
   ]
  },
  {
   "cell_type": "code",
   "execution_count": 22,
   "id": "b9d40477-5721-47b2-aa62-347599192516",
   "metadata": {},
   "outputs": [],
   "source": [
    "data = cml.get_data_index(kind = 'ltp'); data = data[data['experiment']=='ltpRepFR']\n",
    "sess_evs_list = []\n",
    "for i, row in data.iterrows():\n",
    "    try:\n",
    "        reader = CMLReader(subject=row['subject'], session=row['session'], experiment=row['experiment'])\n",
    "        sess_evs = reader.load('task_events')\n",
    "        sess_evs_list.append(sess_evs)\n",
    "    except:\n",
    "        print(row)"
   ]
  },
  {
   "cell_type": "code",
   "execution_count": 23,
   "id": "c7a8b49e-b5f1-4671-8cf7-86385b6f4620",
   "metadata": {},
   "outputs": [],
   "source": [
    "exp2_all_evs = pd.concat(sess_evs_list)"
   ]
  },
  {
   "cell_type": "code",
   "execution_count": 24,
   "id": "bb2daaa6-941f-473a-86dc-69138e77909b",
   "metadata": {},
   "outputs": [],
   "source": [
    "exp2_all_evs.to_csv('dataframes/exp2_all_evs.csv', index=False)"
   ]
  },
  {
   "cell_type": "code",
   "execution_count": 25,
   "id": "ec056b9a-2619-4f1b-8200-66b870b0325e",
   "metadata": {},
   "outputs": [],
   "source": [
    "exp2_ffr_evs = exp2_all_evs.query('type == [\"WORD\", \"REC_WORD\", \"FFR_REC_WORD\"]')"
   ]
  },
  {
   "cell_type": "code",
   "execution_count": 26,
   "id": "169c08be-28b7-416b-a3bb-7be408c75d4c",
   "metadata": {},
   "outputs": [],
   "source": [
    "item_col = 'item_name'\n",
    "item_num_col = 'item_num'\n",
    "item_num_df = exp2_ffr_evs.query(\"type=='WORD'\").drop_duplicates(subset=item_col, ignore_index=True\n",
    "                                    )[item_col].reset_index().rename(columns={'index': item_num_col})\n",
    "item_num_df[item_num_col] = item_num_df[item_num_col] + 1\n",
    "events_new = exp2_ffr_evs.merge(item_num_df, on=item_col, suffixes=('', '_new'), \n",
    "                          how='left', sort=False)#.sort_values('mstime')\n",
    "events_new.fillna({'item_num_new': -999}, inplace=True)"
   ]
  },
  {
   "cell_type": "code",
   "execution_count": 27,
   "id": "431e90f3-4580-4dab-80cd-468b5c680141",
   "metadata": {},
   "outputs": [],
   "source": [
    "exp2_ffr_evs = events_new"
   ]
  },
  {
   "cell_type": "code",
   "execution_count": 28,
   "id": "13e5ba93-fbc4-49a7-ae69-720bfd72c3e4",
   "metadata": {},
   "outputs": [],
   "source": [
    "exp2_ffr_evs.to_csv('dataframes/exp2_ffr_evs.csv', index=False)"
   ]
  },
  {
   "cell_type": "code",
   "execution_count": 29,
   "id": "bffb3474-c25a-4d80-b1a3-f6962e1dffe4",
   "metadata": {},
   "outputs": [],
   "source": [
    "def word_similarity(df, col1, col2, keyed_vector=None):\n",
    "    try:\n",
    "        return keyed_vector.similarity(df[col1].lower(), df[col2].lower())\n",
    "    except:\n",
    "        return np.nan"
   ]
  },
  {
   "cell_type": "code",
   "execution_count": 30,
   "id": "83e3a292-0284-4688-8200-0b945ccc4b76",
   "metadata": {},
   "outputs": [],
   "source": [
    "# get all pairs of items\n",
    "items = item_num_df.item_name.values\n",
    "sem_sim_df = pd.MultiIndex.from_product([items, items], names=['item_1', 'item_2']).to_frame(index=False)"
   ]
  },
  {
   "cell_type": "code",
   "execution_count": 33,
   "id": "5767c42a-df62-45db-826a-c1dae7da1714",
   "metadata": {},
   "outputs": [],
   "source": [
    "# compute similarity of all pairs\n",
    "sem_sim_df['similarity'] = sem_sim_df.apply(word_similarity, \n",
    "               axis=1, col1='item_1', \n",
    "               col2='item_2', \n",
    "               keyed_vector=word2vec_vectors)"
   ]
  },
  {
   "cell_type": "code",
   "execution_count": 34,
   "id": "8e50f887-b718-4739-8ffd-c873eb6f941d",
   "metadata": {},
   "outputs": [],
   "source": [
    "sem_sim_num_df = sem_sim_df.merge(\n",
    "    item_num_df, left_on='item_1', right_on=item_col).merge(\n",
    "    item_num_df, left_on='item_2', right_on=item_col, suffixes=('_1', '_2')).drop(columns=['item_1', 'item_2'])"
   ]
  },
  {
   "cell_type": "code",
   "execution_count": 35,
   "id": "e0445a47-822b-4eaa-b38d-bcf0f00e66e2",
   "metadata": {},
   "outputs": [],
   "source": [
    "sem_sim_num_df.to_csv('dataframes/exp2_sem_sim_num_df.csv', index=False)"
   ]
  }
 ],
 "metadata": {
  "kernelspec": {
   "display_name": "workshop",
   "language": "python",
   "name": "workshop"
  },
  "language_info": {
   "codemirror_mode": {
    "name": "ipython",
    "version": 3
   },
   "file_extension": ".py",
   "mimetype": "text/x-python",
   "name": "python",
   "nbconvert_exporter": "python",
   "pygments_lexer": "ipython3",
   "version": "3.7.6"
  }
 },
 "nbformat": 4,
 "nbformat_minor": 5
}
